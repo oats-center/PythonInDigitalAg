{
 "cells": [
  {
   "cell_type": "markdown",
   "metadata": {},
   "source": [
    "# Practise Workbook 1\n",
    "\n",
    "## Outline of Topics\n",
    "\n",
    "1. Setting up your own github page and forking a repo\n",
    "2. Files for Input and Output\n",
    "3. Write a function to reverse the order of a file.\n"
   ]
  },
  {
   "cell_type": "markdown",
   "metadata": {},
   "source": [
    "#### **Task 1**:\n",
    "\n",
    "Setting up your own github account.  \n",
    "Watch the following youtube video from former Purdue student Yang Wang on setting up your own github account:  \n",
    "<a href=\"https://www.youtube.com/watch?v=ZhHDfZ-l7ZU\" target=\"_blank\">REEU Tutorial 1: Sign Up for Github</a>  \n",
    "Then create your own github account."
   ]
  },
  {
   "cell_type": "markdown",
   "metadata": {},
   "source": [
    "#### **Task 2**:\n",
    "\n",
    "Forking a repo.  \n",
    "Watch the following youtube video from former Purdue student Yang Wang on setting up your own github account:  \n",
    "<a href=\"https://www.youtube.com/watch?v=ZB9VgHFqqXU\" target=\"_blank\">REEU Tutorial 2: Fork a Github Repository</a>  \n",
    "Then fork the repo ..."
   ]
  },
  {
   "cell_type": "markdown",
   "metadata": {},
   "source": [
    "#### **Task 3:**  \n",
    "Download and install VSCode.  \n",
    "Install the environment in VSCode, install python.  \n",
    "<a href=\"ASABEPaperPythonTutorial-main\\Install VSCode for your local machine.docx\" target=\"_blank\">VSCode installation instructions</a>  \n"
   ]
  },
  {
   "cell_type": "markdown",
   "metadata": {},
   "source": [
    "#### **Task 4**: Field Capacity Problem\n",
    "\n",
    "The formula for field capacity is `C = S*W*E/8.25` where the units of C are acres/hour and\n",
    "* S = tractor speed in mph\n",
    "* W = width of implement in feet\n",
    "* E = efficiency of swath (a fraction between 0 and 1)\n",
    "\n",
    "Let `E = 0.85`.\n",
    "\n",
    "Let `S` range from 3 to 7 in 0.5 mph increments\n",
    "\n",
    "Let `W` range from 10 to 60 in 10 foot increments\n",
    "\n",
    "**`Assesment Task :`** Code a capacity estimator using a nested set of `for` loops and the print command. You might want to try using `f-strings` to format a decent looking table."
   ]
  }
 ],
 "metadata": {
  "kernelspec": {
   "display_name": "Python 3",
   "language": "python",
   "name": "python3"
  },
  "language_info": {
   "codemirror_mode": {
    "name": "ipython",
    "version": 3
   },
   "file_extension": ".py",
   "mimetype": "text/x-python",
   "name": "python",
   "nbconvert_exporter": "python",
   "pygments_lexer": "ipython3",
   "version": "3.11.6"
  }
 },
 "nbformat": 4,
 "nbformat_minor": 2
}
