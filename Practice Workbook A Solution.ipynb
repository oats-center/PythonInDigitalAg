{
 "cells": [
  {
   "cell_type": "markdown",
   "metadata": {},
   "source": [
    "# Solutions of Practise Workbook A \n",
    "\n",
    "## Outline of Topics\n",
    "\n",
    "1. Setting up your own github page and forking a repo\n",
    "2. Files for Input and Output\n",
    "3. Write a function to reverse the order of a file.\n"
   ]
  },
  {
   "cell_type": "markdown",
   "metadata": {},
   "source": [
    "#### **Task 1**:\n",
    "\n",
    "Setting up your own github account.  \n",
    "Watch the following youtube video from former Purdue student Yang Wang on setting up your own github account:  \n",
    "<a href=\"https://www.youtube.com/watch?v=ZhHDfZ-l7ZU\" target=\"_blank\">REEU Tutorial 1: Sign Up for Github</a>  \n",
    "Then create your own github account."
   ]
  },
  {
   "cell_type": "markdown",
   "metadata": {},
   "source": [
    "#### **Task 2**:\n",
    "\n",
    "Forking a repo.  \n",
    "Watch the following youtube video from former Purdue student Yang Wang on setting up your own github account:  \n",
    "<a href=\"https://www.youtube.com/watch?v=ZB9VgHFqqXU\" target=\"_blank\">REEU Tutorial 2: Fork a Github Repository</a>  \n",
    "Then fork the repo ..."
   ]
  },
  {
   "cell_type": "markdown",
   "metadata": {},
   "source": [
    "#### **Task 3:**  \n",
    "Download and install VSCode.  \n",
    "Install the environment in VSCode, install python.  \n",
    "<a href=\"ASABEPaperPythonTutorial-main\\Install VSCode for your local machine.docx\" target=\"_blank\">VSCode installation instructions</a>  \n"
   ]
  },
  {
   "cell_type": "markdown",
   "metadata": {},
   "source": [
    "#### **Task 4**: Field Capacity Problem\n",
    "\n",
    "The formula for field capacity is `C = S*W*E/8.25` where the units of C are acres/hour and\n",
    "* S = tractor speed in mph\n",
    "* W = width of implement in feet\n",
    "* E = efficiency of swath (a fraction between 0 and 1)\n",
    "\n",
    "Let `E = 0.85`.\n",
    "\n",
    "Let `S` range from 3 to 7 in 0.5 mph increments\n",
    "\n",
    "Let `W` range from 10 to 60 in 10 foot increments\n",
    "\n",
    "**`Assesment Task :`** Code a capacity estimator using a nested set of `for` loops and the print command. You might want to try using `f-strings` to format a decent looking table."
   ]
  },
  {
   "cell_type": "code",
   "execution_count": 1,
   "metadata": {},
   "outputs": [
    {
     "data": {
      "text/plain": [
       "(array([3. , 3.5, 4. , 4.5, 5. , 5.5, 6. , 6.5, 7. ]),\n",
       " array([10., 20., 30., 40., 50., 60.]))"
      ]
     },
     "execution_count": 1,
     "metadata": {},
     "output_type": "execute_result"
    }
   ],
   "source": [
    "import numpy as np\n",
    "S = np.linspace(3,7,9)\n",
    "W = np.linspace(10,60,6)\n",
    "S,W\n"
   ]
  },
  {
   "cell_type": "code",
   "execution_count": 2,
   "metadata": {},
   "outputs": [
    {
     "data": {
      "text/plain": [
       "(array([3. , 3.5, 4. , 4.5, 5. , 5.5, 6. , 6.5]), array([10, 20, 30, 40, 50]))"
      ]
     },
     "execution_count": 2,
     "metadata": {},
     "output_type": "execute_result"
    }
   ],
   "source": [
    "S1 = np.arange(3,7,0.5);\n",
    "W1 = np.arange(10,60,10)\n",
    "S1,W1"
   ]
  },
  {
   "cell_type": "code",
   "execution_count": 3,
   "metadata": {},
   "outputs": [
    {
     "name": "stdout",
     "output_type": "stream",
     "text": [
      "3.0   10.0  what is the field capacity\n",
      "3.0   20.0  what is the field capacity\n",
      "3.0   30.0  what is the field capacity\n",
      "3.0   40.0  what is the field capacity\n",
      "3.0   50.0  what is the field capacity\n",
      "3.0   60.0  what is the field capacity\n",
      "3.5   10.0  what is the field capacity\n",
      "3.5   20.0  what is the field capacity\n",
      "3.5   30.0  what is the field capacity\n",
      "3.5   40.0  what is the field capacity\n",
      "3.5   50.0  what is the field capacity\n",
      "3.5   60.0  what is the field capacity\n",
      "4.0   10.0  what is the field capacity\n",
      "4.0   20.0  what is the field capacity\n",
      "4.0   30.0  what is the field capacity\n",
      "4.0   40.0  what is the field capacity\n",
      "4.0   50.0  what is the field capacity\n",
      "4.0   60.0  what is the field capacity\n",
      "4.5   10.0  what is the field capacity\n",
      "4.5   20.0  what is the field capacity\n",
      "4.5   30.0  what is the field capacity\n",
      "4.5   40.0  what is the field capacity\n",
      "4.5   50.0  what is the field capacity\n",
      "4.5   60.0  what is the field capacity\n",
      "5.0   10.0  what is the field capacity\n",
      "5.0   20.0  what is the field capacity\n",
      "5.0   30.0  what is the field capacity\n",
      "5.0   40.0  what is the field capacity\n",
      "5.0   50.0  what is the field capacity\n",
      "5.0   60.0  what is the field capacity\n",
      "5.5   10.0  what is the field capacity\n",
      "5.5   20.0  what is the field capacity\n",
      "5.5   30.0  what is the field capacity\n",
      "5.5   40.0  what is the field capacity\n",
      "5.5   50.0  what is the field capacity\n",
      "5.5   60.0  what is the field capacity\n",
      "6.0   10.0  what is the field capacity\n",
      "6.0   20.0  what is the field capacity\n",
      "6.0   30.0  what is the field capacity\n",
      "6.0   40.0  what is the field capacity\n",
      "6.0   50.0  what is the field capacity\n",
      "6.0   60.0  what is the field capacity\n",
      "6.5   10.0  what is the field capacity\n",
      "6.5   20.0  what is the field capacity\n",
      "6.5   30.0  what is the field capacity\n",
      "6.5   40.0  what is the field capacity\n",
      "6.5   50.0  what is the field capacity\n",
      "6.5   60.0  what is the field capacity\n",
      "7.0   10.0  what is the field capacity\n",
      "7.0   20.0  what is the field capacity\n",
      "7.0   30.0  what is the field capacity\n",
      "7.0   40.0  what is the field capacity\n",
      "7.0   50.0  what is the field capacity\n",
      "7.0   60.0  what is the field capacity\n"
     ]
    }
   ],
   "source": [
    "for x in S:\n",
    "    for y in W:\n",
    "        print(x, ' ', y, ' what is the field capacity')"
   ]
  }
 ],
 "metadata": {
  "kernelspec": {
   "display_name": "Python 3",
   "language": "python",
   "name": "python3"
  },
  "language_info": {
   "codemirror_mode": {
    "name": "ipython",
    "version": 3
   },
   "file_extension": ".py",
   "mimetype": "text/x-python",
   "name": "python",
   "nbconvert_exporter": "python",
   "pygments_lexer": "ipython3",
   "version": "3.11.6"
  }
 },
 "nbformat": 4,
 "nbformat_minor": 2
}
