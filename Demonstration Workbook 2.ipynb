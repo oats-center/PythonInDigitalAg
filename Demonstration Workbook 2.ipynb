{
 "cells": [
  {
   "cell_type": "markdown",
   "metadata": {},
   "source": [
    "# Demonstration Workbook 2 \n",
    "\n",
    "## Outline of topics:\n",
    "\n",
    "1. Introducing Python packages/modules and third party libraries\n",
    "2. Using Python's file input output to read a `csv` file containing average US corn yields by year.\n",
    "3. Using Python's string methods to process data read in from text files, etc.\n",
    "\n",
    "\n",
    "## Some useful background material:\n",
    "\n",
    "The <a href=\"https://the-examples-book.com/book/introduction\" target=\"_blank\">Purdue Data Mine Examples Book</a> contains many useful chapters on data science. While they have not been directly designed for this class, they may be useful. You will not need to use scholar to perform the exercises of this class so don't worry about that part. Here is a direct link to the <a href=\"https://the-examples-book.com/book/python/introduction\" target=\"_blank\">Python chapter.</a>\n",
    "\n",
    "\n",
    "Additional useful links for Python include:\n",
    "\n",
    "<a href=\"https://docs.python.org/3/\" target=\"_blank\">Python 3.9.4 documentation</a>\n",
    "\n",
    "The <a href=\"https://pypi.org/\" target=\"_blank\">Python Package Index</a> (This contains many of the useful Python \"add-on\" packages such as the math package)\n",
    "\n",
    "The <a href=\"https://numpy.org/\" target=\"_blank\">Numpy Package</a> (This contains specialized array (vector and matrix) routines. Numpy stands for \"Numerical Python\")\n",
    "\n",
    "United States Department of Agriculture: <a href=\"https://quickstats.nass.usda.gov/\" target=\"_blank\">Quick Stats</a> (The USDA's National Ag Statistics Service -- go here and familiarize yourself with the available data)"
   ]
  },
  {
   "cell_type": "markdown",
   "metadata": {},
   "source": [
    "#### *Discussion 1* : The math package\n",
    "Python provides many modules designed for specialized programming tasks. It has its own built in packages. math is one of Pythons builtin packages. you can find the complete list at [The Python Standard Library](https://docs.python.org/3/library/index.html) \n",
    "\n",
    "The math package contains trigonometric, exponential, logarithmic, hyperbolic, and special functions. It also contains a number of useful constants such as `pi` and `e`."
   ]
  },
  {
   "cell_type": "code",
   "execution_count": 1,
   "metadata": {},
   "outputs": [
    {
     "name": "stdout",
     "output_type": "stream",
     "text": [
      "the value of Pi from math library:  3.141592653589793\n",
      "2 raised to the power 3 =  8.0\n",
      "rounding up of 3.2 =  4\n",
      "rounding down of 3.9 =  3\n",
      "factorial of 5 =  120\n"
     ]
    }
   ],
   "source": [
    "import math # This will import math library\n",
    "P = math.pi #assigning the value of pi to P\n",
    "print(\"the value of Pi from math library: \",P)\n",
    "power_result = math.pow(2, 3)     # Exponentiation: 8.0\n",
    "print(\"2 raised to the power 3 = \",power_result)\n",
    "ceil_result = math.ceil(3.2)      # Ceiling function: 4.0\n",
    "print(\"rounding up of 3.2 = \",ceil_result)\n",
    "floor_result = math.floor(3.9)    # Floor function: 3.0\n",
    "print(\"rounding down of 3.9 = \",floor_result)\n",
    "factorial_result = math.factorial(5)  # Factorial: 120\n",
    "print(\"factorial of 5 = \",factorial_result)"
   ]
  },
  {
   "cell_type": "markdown",
   "metadata": {},
   "source": [
    "Let's use the math package to create something interesting. "
   ]
  },
  {
   "cell_type": "code",
   "execution_count": 6,
   "metadata": {},
   "outputs": [
    {
     "name": "stdout",
     "output_type": "stream",
     "text": [
      "0.0 0.0\n",
      "0.12566370614359174 0.12533323356430426\n",
      "0.25132741228718347 0.2486898871648548\n",
      "0.37699111843077515 0.3681245526846779\n",
      "0.5026548245743669 0.4817536741017153\n",
      "0.6283185307179586 0.5877852522924731\n",
      "0.7539822368615503 0.6845471059286886\n",
      "0.8796459430051421 0.7705132427757893\n",
      "1.0053096491487339 0.8443279255020151\n",
      "1.1309733552923256 0.9048270524660196\n",
      "1.2566370614359172 0.9510565162951535\n",
      "1.382300767579509 0.9822872507286886\n",
      "1.5079644737231006 0.9980267284282716\n",
      "1.6336281798666925 0.9980267284282716\n",
      "1.7592918860102842 0.9822872507286887\n",
      "1.8849555921538756 0.9510565162951536\n",
      "2.0106192982974678 0.9048270524660195\n",
      "2.1362830044410597 0.844327925502015\n",
      "2.261946710584651 0.7705132427757893\n",
      "2.3876104167282426 0.6845471059286888\n",
      "2.5132741228718345 0.5877852522924732\n",
      "2.6389378290154264 0.4817536741017152\n",
      "2.764601535159018 0.36812455268467814\n",
      "2.8902652413026093 0.24868988716485524\n",
      "3.015928947446201 0.12533323356430454\n",
      "3.141592653589793 1.2246467991473532e-16\n",
      "3.267256359733385 -0.12533323356430429\n",
      "3.3929200658769765 -0.24868988716485457\n",
      "3.5185837720205684 -0.3681245526846779\n",
      "3.6442474781641603 -0.4817536741017154\n",
      "3.7699111843077513 -0.5877852522924727\n",
      "3.895574890451343 -0.6845471059286884\n",
      "4.0212385965949355 -0.7705132427757894\n",
      "4.1469023027385274 -0.8443279255020153\n",
      "4.272566008882119 -0.9048270524660198\n",
      "4.39822971502571 -0.9510565162951535\n",
      "4.523893421169302 -0.9822872507286887\n",
      "4.649557127312894 -0.9980267284282716\n",
      "4.775220833456485 -0.9980267284282716\n",
      "4.900884539600077 -0.9822872507286887\n",
      "5.026548245743669 -0.9510565162951536\n",
      "5.15221195188726 -0.9048270524660199\n",
      "5.277875658030853 -0.844327925502015\n",
      "5.403539364174444 -0.7705132427757896\n",
      "5.529203070318036 -0.684547105928689\n",
      "5.654866776461628 -0.5877852522924734\n",
      "5.780530482605219 -0.4817536741017161\n",
      "5.906194188748811 -0.36812455268467786\n",
      "6.031857894892402 -0.24868988716485535\n",
      "6.157521601035994 -0.12533323356430465\n"
     ]
    }
   ],
   "source": [
    "# This short program will print a table with 50 rows where\n",
    "# each row contains an argument and the sine of the argument.\n",
    "# The sine function will trace on complete period of length\n",
    "# 2*pi.\n",
    "N = 50\n",
    "for k in range(N):\n",
    "    t = 2*P*k/N\n",
    "    print(t, math.sin(t))"
   ]
  },
  {
   "cell_type": "markdown",
   "metadata": {},
   "source": [
    "The table above is difficult to read because it is not well formatted. Python has tools to simplify formating with the print command. There is a nice explanation in the Data Mind notes mentioned in the introduction. One prefered method uses `f-strings`, which stands for **format string**. They are indicated by preceeding the string with `f` or `F`."
   ]
  },
  {
   "cell_type": "code",
   "execution_count": 7,
   "metadata": {},
   "outputs": [
    {
     "name": "stdout",
     "output_type": "stream",
     "text": [
      "The value of pi is approximately 3.141592653589793\n",
      "\n",
      "The value of pi is approximately 3.142.\n"
     ]
    }
   ],
   "source": [
    "# Compare two ways of printing pi\n",
    "print('The value of pi is approximately', P)\n",
    "print()\n",
    "print(f'The value of pi is approximately {math.pi:.3f}.')"
   ]
  },
  {
   "cell_type": "markdown",
   "metadata": {},
   "source": [
    "Let's make a prettier (more readable) sinewave table."
   ]
  },
  {
   "cell_type": "code",
   "execution_count": 8,
   "metadata": {},
   "outputs": [
    {
     "name": "stdout",
     "output_type": "stream",
     "text": [
      " 0.00     0.000\n",
      " 0.13     0.125\n",
      " 0.25     0.249\n",
      " 0.38     0.368\n",
      " 0.50     0.482\n",
      " 0.63     0.588\n",
      " 0.75     0.685\n",
      " 0.88     0.771\n",
      " 1.01     0.844\n",
      " 1.13     0.905\n",
      " 1.26     0.951\n",
      " 1.38     0.982\n",
      " 1.51     0.998\n",
      " 1.63     0.998\n",
      " 1.76     0.982\n",
      " 1.88     0.951\n",
      " 2.01     0.905\n",
      " 2.14     0.844\n",
      " 2.26     0.771\n",
      " 2.39     0.685\n",
      " 2.51     0.588\n",
      " 2.64     0.482\n",
      " 2.76     0.368\n",
      " 2.89     0.249\n",
      " 3.02     0.125\n",
      " 3.14     0.000\n",
      " 3.27    -0.125\n",
      " 3.39    -0.249\n",
      " 3.52    -0.368\n",
      " 3.64    -0.482\n",
      " 3.77    -0.588\n",
      " 3.90    -0.685\n",
      " 4.02    -0.771\n",
      " 4.15    -0.844\n",
      " 4.27    -0.905\n",
      " 4.40    -0.951\n",
      " 4.52    -0.982\n",
      " 4.65    -0.998\n",
      " 4.78    -0.998\n",
      " 4.90    -0.982\n",
      " 5.03    -0.951\n",
      " 5.15    -0.905\n",
      " 5.28    -0.844\n",
      " 5.40    -0.771\n",
      " 5.53    -0.685\n",
      " 5.65    -0.588\n",
      " 5.78    -0.482\n",
      " 5.91    -0.368\n",
      " 6.03    -0.249\n",
      " 6.16    -0.125\n"
     ]
    }
   ],
   "source": [
    "# Prettier sine wave table.\n",
    "N = 50\n",
    "for k in range(N):\n",
    "    t = 2*P*k/N\n",
    "    print(f'{t: 1.2f}', '  ', f'{math.sin(t): .3f}')\n"
   ]
  },
  {
   "cell_type": "markdown",
   "metadata": {},
   "source": [
    "#### *Discussion 2* : The NumPy and matplotlib Package  \n",
    "You can find the list of python packages at <a href=\"https://pypi.org\" target=\"_blank\">The Python Package Index</a>."
   ]
  },
  {
   "cell_type": "markdown",
   "metadata": {},
   "source": [
    "All data manipulated by a computer is represented in binary. In otherwords, via one method or another, all data -- temperature sensor readings, hourly barometric pressure from your Davis weather station, an audio file, images from your Bushnell game camera, a yield map -- are represented as arrays of numbers.\n",
    "\n",
    "**NumPy (Numerical Python)** provides an efficient interface to store and compute on dense data buffers. NumPy arrays are much more efficient than Python's built-in list data type.\n",
    "\n",
    "See: <a href=\"http://www.numpy.org\" target=\"_blank\">The Numpy Package</a>."
   ]
  },
  {
   "cell_type": "code",
   "execution_count": 5,
   "metadata": {},
   "outputs": [],
   "source": [
    "# Import the numpy package. This command allows us to refer to numpy\n",
    "# commands using the alias \"np\".\n",
    "import numpy as np\n"
   ]
  },
  {
   "cell_type": "code",
   "execution_count": 3,
   "metadata": {},
   "outputs": [
    {
     "data": {
      "text/plain": [
       "(array([ 1,  2,  3,  4,  5,  6,  7,  8,  9, 10]),\n",
       " array([ 3,  1,  6,  5,  4, 11, -1,  1,  2,  6]))"
      ]
     },
     "execution_count": 3,
     "metadata": {},
     "output_type": "execute_result"
    }
   ],
   "source": [
    "x = np.array([1, 2, 3, 4, 5, 6, 7, 8, 9, 10])\n",
    "y = np.array([3, 1, 6, 5, 4, 11, -1, 1, 2, 6])\n",
    "x,y"
   ]
  },
  {
   "cell_type": "code",
   "execution_count": 7,
   "metadata": {},
   "outputs": [
    {
     "data": {
      "text/plain": [
       "(array([ 0.        ,  0.1010101 ,  0.2020202 ,  0.3030303 ,  0.4040404 ,\n",
       "         0.50505051,  0.60606061,  0.70707071,  0.80808081,  0.90909091,\n",
       "         1.01010101,  1.11111111,  1.21212121,  1.31313131,  1.41414141,\n",
       "         1.51515152,  1.61616162,  1.71717172,  1.81818182,  1.91919192,\n",
       "         2.02020202,  2.12121212,  2.22222222,  2.32323232,  2.42424242,\n",
       "         2.52525253,  2.62626263,  2.72727273,  2.82828283,  2.92929293,\n",
       "         3.03030303,  3.13131313,  3.23232323,  3.33333333,  3.43434343,\n",
       "         3.53535354,  3.63636364,  3.73737374,  3.83838384,  3.93939394,\n",
       "         4.04040404,  4.14141414,  4.24242424,  4.34343434,  4.44444444,\n",
       "         4.54545455,  4.64646465,  4.74747475,  4.84848485,  4.94949495,\n",
       "         5.05050505,  5.15151515,  5.25252525,  5.35353535,  5.45454545,\n",
       "         5.55555556,  5.65656566,  5.75757576,  5.85858586,  5.95959596,\n",
       "         6.06060606,  6.16161616,  6.26262626,  6.36363636,  6.46464646,\n",
       "         6.56565657,  6.66666667,  6.76767677,  6.86868687,  6.96969697,\n",
       "         7.07070707,  7.17171717,  7.27272727,  7.37373737,  7.47474747,\n",
       "         7.57575758,  7.67676768,  7.77777778,  7.87878788,  7.97979798,\n",
       "         8.08080808,  8.18181818,  8.28282828,  8.38383838,  8.48484848,\n",
       "         8.58585859,  8.68686869,  8.78787879,  8.88888889,  8.98989899,\n",
       "         9.09090909,  9.19191919,  9.29292929,  9.39393939,  9.49494949,\n",
       "         9.5959596 ,  9.6969697 ,  9.7979798 ,  9.8989899 , 10.        ]),\n",
       " 0.0,\n",
       " 10.0)"
      ]
     },
     "execution_count": 7,
     "metadata": {},
     "output_type": "execute_result"
    }
   ],
   "source": [
    "xr = np.linspace(0, 10, 100)# 100 points between 0 and 10\\\n",
    "xr, "
   ]
  },
  {
   "cell_type": "code",
   "execution_count": 9,
   "metadata": {},
   "outputs": [
    {
     "name": "stdout",
     "output_type": "stream",
     "text": [
      "the min and max values of array xr  0.0 10.0\n"
     ]
    }
   ],
   "source": [
    "print(\"the min and max values of array xr \", xr.min(), xr.max())"
   ]
  },
  {
   "cell_type": "code",
   "execution_count": 17,
   "metadata": {},
   "outputs": [
    {
     "name": "stdout",
     "output_type": "stream",
     "text": [
      "the 50 th percentile of the array xr is :  5.0\n"
     ]
    }
   ],
   "source": [
    "print(\"the 50 th percentile of the array xr is : \",np.percentile(xr,50))"
   ]
  },
  {
   "cell_type": "code",
   "execution_count": 24,
   "metadata": {},
   "outputs": [
    {
     "data": {
      "text/plain": [
       "(10, 10)"
      ]
     },
     "execution_count": 24,
     "metadata": {},
     "output_type": "execute_result"
    }
   ],
   "source": [
    "xr2d = xr.reshape(10,10)\n",
    "xr2d.shape"
   ]
  },
  {
   "cell_type": "code",
   "execution_count": 10,
   "metadata": {},
   "outputs": [
    {
     "data": {
      "text/plain": [
       "array([[1, 2, 3],\n",
       "       [4, 5, 6],\n",
       "       [7, 8, 9]])"
      ]
     },
     "execution_count": 10,
     "metadata": {},
     "output_type": "execute_result"
    }
   ],
   "source": [
    "arr2d=np.array([[1,2,3],[4,5,6],[7,8,9]])\n",
    "arr2d"
   ]
  },
  {
   "cell_type": "code",
   "execution_count": 11,
   "metadata": {},
   "outputs": [
    {
     "data": {
      "text/plain": [
       "(3, 3)"
      ]
     },
     "execution_count": 11,
     "metadata": {},
     "output_type": "execute_result"
    }
   ],
   "source": [
    "arr2d.shape"
   ]
  },
  {
   "cell_type": "code",
   "execution_count": 22,
   "metadata": {},
   "outputs": [
    {
     "name": "stdout",
     "output_type": "stream",
     "text": [
      "[[1 4 7]\n",
      " [2 5 8]\n",
      " [3 6 9]]\n"
     ]
    }
   ],
   "source": [
    "arr2dT=arr2d.T #transpose of arr2d\n",
    "print(arr2dT)"
   ]
  },
  {
   "cell_type": "code",
   "execution_count": 23,
   "metadata": {},
   "outputs": [
    {
     "data": {
      "text/plain": [
       "array([[ 1,  8, 21],\n",
       "       [ 8, 25, 48],\n",
       "       [21, 48, 81]])"
      ]
     },
     "execution_count": 23,
     "metadata": {},
     "output_type": "execute_result"
    }
   ],
   "source": [
    "arr2Dmul=arr2d*arr2dT #element wise multiplication\n",
    "arr2Dmul"
   ]
  },
  {
   "cell_type": "markdown",
   "metadata": {},
   "source": [
    "**matplotlib**\n",
    "This is the most popular graphing library in Python.   \n",
    "You can refer to [matplotlib documentation](https://matplotlib.org/stable/users/index) for more information."
   ]
  },
  {
   "cell_type": "code",
   "execution_count": 25,
   "metadata": {},
   "outputs": [
    {
     "ename": "NameError",
     "evalue": "name 'x' is not defined",
     "output_type": "error",
     "traceback": [
      "\u001b[1;31m---------------------------------------------------------------------------\u001b[0m",
      "\u001b[1;31mNameError\u001b[0m                                 Traceback (most recent call last)",
      "\u001b[1;32md:\\OneDrive - purdue.edu\\AutomatingAgFieldTrials\\Summer2023\\HEC_Paper\\ASABEPaperPythonTutorial-mainVersion2\\ExampleWorkbook2.ipynb Cell 24\u001b[0m line \u001b[0;36m6\n\u001b[0;32m      <a href='vscode-notebook-cell:/d%3A/OneDrive%20-%20purdue.edu/AutomatingAgFieldTrials/Summer2023/HEC_Paper/ASABEPaperPythonTutorial-mainVersion2/ExampleWorkbook2.ipynb#X32sZmlsZQ%3D%3D?line=3'>4</a>\u001b[0m fig \u001b[39m=\u001b[39m plt\u001b[39m.\u001b[39mfigure()\n\u001b[0;32m      <a href='vscode-notebook-cell:/d%3A/OneDrive%20-%20purdue.edu/AutomatingAgFieldTrials/Summer2023/HEC_Paper/ASABEPaperPythonTutorial-mainVersion2/ExampleWorkbook2.ipynb#X32sZmlsZQ%3D%3D?line=4'>5</a>\u001b[0m plt\u001b[39m.\u001b[39mstyle\u001b[39m.\u001b[39muse(\u001b[39m'\u001b[39m\u001b[39mclassic\u001b[39m\u001b[39m'\u001b[39m)\n\u001b[1;32m----> <a href='vscode-notebook-cell:/d%3A/OneDrive%20-%20purdue.edu/AutomatingAgFieldTrials/Summer2023/HEC_Paper/ASABEPaperPythonTutorial-mainVersion2/ExampleWorkbook2.ipynb#X32sZmlsZQ%3D%3D?line=5'>6</a>\u001b[0m plt\u001b[39m.\u001b[39mplot(x, y)\n\u001b[0;32m      <a href='vscode-notebook-cell:/d%3A/OneDrive%20-%20purdue.edu/AutomatingAgFieldTrials/Summer2023/HEC_Paper/ASABEPaperPythonTutorial-mainVersion2/ExampleWorkbook2.ipynb#X32sZmlsZQ%3D%3D?line=6'>7</a>\u001b[0m plt\u001b[39m.\u001b[39mtitle(\u001b[39m\"\u001b[39m\u001b[39mExample Plot\u001b[39m\u001b[39m\"\u001b[39m)\n\u001b[0;32m      <a href='vscode-notebook-cell:/d%3A/OneDrive%20-%20purdue.edu/AutomatingAgFieldTrials/Summer2023/HEC_Paper/ASABEPaperPythonTutorial-mainVersion2/ExampleWorkbook2.ipynb#X32sZmlsZQ%3D%3D?line=7'>8</a>\u001b[0m plt\u001b[39m.\u001b[39mxlabel(\u001b[39m\"\u001b[39m\u001b[39mx\u001b[39m\u001b[39m\"\u001b[39m)\n",
      "\u001b[1;31mNameError\u001b[0m: name 'x' is not defined"
     ]
    },
    {
     "data": {
      "text/plain": [
       "<Figure size 640x480 with 0 Axes>"
      ]
     },
     "metadata": {},
     "output_type": "display_data"
    }
   ],
   "source": [
    "# Import matplotlib and define an alias \"plt\".\n",
    "import matplotlib as mpl\n",
    "import matplotlib.pyplot as plt\n",
    "fig = plt.figure()\n",
    "plt.style.use('classic')\n",
    "plt.plot(x, y)\n",
    "plt.title(\"Example Plot\")\n",
    "plt.xlabel(\"x\")\n",
    "plt.ylabel(\"y\")\n",
    "plt.grid()"
   ]
  },
  {
   "cell_type": "code",
   "execution_count": 12,
   "metadata": {},
   "outputs": [
    {
     "data": {
      "text/plain": [
       "[<matplotlib.lines.Line2D at 0x2037fd6a9d0>]"
      ]
     },
     "execution_count": 12,
     "metadata": {},
     "output_type": "execute_result"
    },
    {
     "data": {
      "image/png": "[encoded data removed]",
      "text/plain": [
       "<Figure size 640x480 with 1 Axes>"
      ]
     },
     "metadata": {},
     "output_type": "display_data"
    }
   ],
   "source": [
    "x = np.linspace(0, 10, 100)\n",
    "fig2 = plt.figure()\n",
    "plt.style.use('ggplot')\n",
    "plt.plot(x, np.sin(x))\n",
    "plt.plot(x, np.cos(x))\n"
   ]
  },
  {
   "cell_type": "markdown",
   "metadata": {},
   "source": [
    "Historical average wheat yield data for the USA."
   ]
  },
  {
   "cell_type": "code",
   "execution_count": null,
   "metadata": {},
   "outputs": [
    {
     "data": {
      "text/plain": [
       "array([2021, 2020, 2019, 2018, 2017, 2016, 2015, 2014, 2013, 2012, 2011,\n",
       "       2010, 2009, 2008, 2007, 2006, 2005, 2004, 2003, 2002, 2001, 2000,\n",
       "       1999, 1998, 1997, 1996, 1995, 1994, 1993, 1992, 1991, 1990, 1989,\n",
       "       1988, 1987, 1986, 1985, 1984, 1983, 1982, 1981, 1980, 1979, 1978,\n",
       "       1977, 1976, 1975, 1974, 1973, 1972, 1971, 1970, 1969, 1968, 1967,\n",
       "       1966, 1965, 1964, 1963, 1962, 1961, 1960, 1959, 1958, 1957, 1956,\n",
       "       1955, 1954, 1953, 1952, 1951, 1950, 1949, 1948, 1947, 1946, 1945,\n",
       "       1944, 1943, 1942, 1941, 1940, 1939, 1938, 1937, 1936, 1935, 1934,\n",
       "       1933, 1932, 1931, 1930, 1929, 1928, 1927, 1926, 1925, 1924, 1923,\n",
       "       1922, 1921, 1920, 1919, 1918, 1917, 1916, 1915, 1914, 1913, 1912,\n",
       "       1911, 1910, 1909, 1908, 1907, 1906, 1905, 1904, 1903, 1902, 1901,\n",
       "       1900, 1899, 1898, 1897, 1896, 1895, 1894, 1893, 1892, 1891, 1890,\n",
       "       1889, 1888, 1887, 1886, 1885, 1884, 1883, 1882, 1881, 1880, 1879,\n",
       "       1878, 1877, 1876, 1875, 1874, 1873, 1872, 1871, 1870, 1869, 1868,\n",
       "       1867, 1866])"
      ]
     },
     "metadata": {},
     "output_type": "display_data"
    }
   ],
   "source": [
    "# The years for which we have average wheat yield data.\n",
    "dates = np.array([2021, 2020, 2019, 2018, 2017, 2016, 2015, 2014, 2013, 2012, 2011, 2010, 2009, 2008, 2007, 2006, 2005, 2004, 2003, 2002, 2001, 2000,1999, 1998, 1997, 1996, 1995, 1994, 1993, 1992, 1991, 1990, 1989, 1988, 1987, 1986, 1985, 1984, 1983, 1982, 1981, 1980, 1979, 1978, 1977, 1976, 1975, 1974, 1973, 1972, 1971, 1970, 1969, 1968, 1967,1966, 1965, 1964, 1963, 1962, 1961, 1960, 1959, 1958, 1957, 1956, 1955, 1954, 1953, 1952, 1951, 1950, 1949, 1948, 1947, 1946, 1945,1944, 1943, 1942, 1941, 1940, 1939, 1938, 1937, 1936, 1935, 1934, 1933, 1932, 1931, 1930, 1929, 1928, 1927, 1926, 1925, 1924, 1923,1922, 1921, 1920, 1919, 1918, 1917, 1916, 1915, 1914, 1913, 1912,1911, 1910, 1909, 1908, 1907, 1906, 1905, 1904, 1903, 1902, 1901,1900, 1899, 1898, 1897, 1896, 1895, 1894, 1893, 1892, 1891, 1890,1889, 1888, 1887, 1886, 1885, 1884, 1883, 1882, 1881, 1880, 1879,1878, 1877, 1876, 1875, 1874, 1873, 1872, 1871, 1870, 1869, 1868, 1867, 1866])\n",
    "dates"
   ]
  },
  {
   "cell_type": "code",
   "execution_count": null,
   "metadata": {},
   "outputs": [
    {
     "data": {
      "text/plain": [
       "array([44.5, 49.7, 51.7, 47.6, 46.4, 52.7, 43.6, 43.7, 47.1, 46.2, 43.6,\n",
       "       46.1, 44.3, 44.8, 40.2, 38.6, 42. , 43.2, 44.2, 35. , 40.2, 42. ,\n",
       "       42.7, 43.2, 39.5, 36.3, 35.8, 37.6, 38.2, 39.3, 34.3, 39.5, 32.7,\n",
       "       34.1, 37.7, 34.4, 37.5, 38.8, 39.4, 35.5, 34.5, 33.5, 34.2, 31.4,\n",
       "       30.7, 30.3, 30.6, 27.3, 31.6, 32.7, 33.9, 31. , 30.6, 28.4, 25.8,\n",
       "       26.3, 26.5, 25.8, 25.2, 25. , 23.9, 26.1, 21.6, 27.5, 21.8, 20.2,\n",
       "       19.8, 18.1, 17.3, 18.4, 16. , 16.5, 14.5, 17.9, 18.2, 17.2, 17. ,\n",
       "       17.7, 16.4, 19.5, 16.8, 15.3, 14.1, 13.3, 13.6, 12.8, 12.2, 12.1,\n",
       "       11.2, 13.1, 16.3, 14.2, 13. , 15.4, 14.7, 14.7, 12.8, 16. , 13.3,\n",
       "       13.8, 12.7, 13.5, 12.9, 14.8, 13.2, 11.9, 16.7, 16.1, 14.4, 15.1,\n",
       "       12.4, 13.7, 15.5, 14.3, 14.2, 16. , 15.2, 12.9, 13.7, 14.9, 15. ,\n",
       "       12.2, 12.5, 15.2, 14. , 12.8, 13.9, 13.5, 12.4, 14.2, 16.5, 12.2,\n",
       "       14. , 12.1, 13.3, 14.1, 11.4, 14.8, 12.3, 15.1, 11. , 13.2, 13. ,\n",
       "       13.5, 14.1, 10.9, 11.1, 13. , 12.9, 11.8, 12.2, 12.1, 13.7, 12.9,\n",
       "       12.6, 11. ])"
      ]
     },
     "metadata": {},
     "output_type": "display_data"
    }
   ],
   "source": [
    "# The average wheat yield data in the order to line up with the corresponding years.\n",
    "yields = np.array([44.5, 49.7, 51.7, 47.6, 46.4, 52.7, 43.6, 43.7, 47.1, 46.2, 43.6, 46.1, 44.3, 44.8, 40.2, 38.6, 42. , 43.2, 44.2, 35. , 40.2, 42. , 42.7, 43.2, 39.5, 36.3, 35.8, 37.6, 38.2, 39.3, 34.3, 39.5, 32.7, 34.1, 37.7, 34.4, 37.5, 38.8, 39.4, 35.5, 34.5, 33.5, 34.2, 31.4, 30.7, 30.3, 30.6, 27.3, 31.6, 32.7, 33.9, 31. , 30.6, 28.4, 25.8, 26.3, 26.5, 25.8, 25.2, 25. , 23.9, 26.1, 21.6, 27.5, 21.8, 20.2, 19.8, 18.1, 17.3, 18.4, 16. , 16.5, 14.5, 17.9, 18.2, 17.2, 17. , 17.7, 16.4, 19.5, 16.8, 15.3, 14.1, 13.3, 13.6, 12.8, 12.2, 12.1, 11.2, 13.1, 16.3, 14.2, 13. , 15.4, 14.7, 14.7, 12.8, 16. , 13.3, 13.8, 12.7, 13.5, 12.9, 14.8, 13.2, 11.9, 16.7, 16.1, 14.4, 15.1, 12.4, 13.7, 15.5, 14.3, 14.2, 16. , 15.2, 12.9, 13.7, 14.9, 15. , 12.2, 12.5, 15.2, 14. , 12.8, 13.9, 13.5, 12.4, 14.2, 16.5, 12.2, 14. , 12.1, 13.3, 14.1, 11.4, 14.8, 12.3, 15.1, 11. , 13.2, 13. , 13.5, 14.1, 10.9, 11.1, 13. , 12.9, 11.8, 12.2, 12.1, 13.7, 12.9, 12.6, 11. ])\n",
    "yields"
   ]
  },
  {
   "cell_type": "code",
   "execution_count": null,
   "metadata": {},
   "outputs": [
    {
     "data": {
      "image/png": "[encoded data removed]",
      "text/plain": [
       "<Figure size 640x480 with 1 Axes>"
      ]
     },
     "metadata": {},
     "output_type": "display_data"
    }
   ],
   "source": [
    "# Plotting the corn yield trend\n",
    "fig = plt.figure()\n",
    "plt.style.use('classic')\n",
    "plt.plot(dates, yields)\n",
    "plt.title(\"United States Average Wheat Yield by Year\")\n",
    "plt.xlabel(\"Year\")\n",
    "plt.ylabel(\"Yield in bushels per acre\")\n",
    "plt.grid()"
   ]
  },
  {
   "cell_type": "markdown",
   "metadata": {},
   "source": [
    "#### *Discussion 3* : files for Input and Output \n",
    "To this point we have only used the `print()` command for program output. Python also provides an `input()` function for user input of single variables, etc.However, in order to handle large amounts of data we need a way to handle files for reading and writing.  \n",
    "  *All of the data in this lab will be located in a `Data` subdirectory relative to the home directory where python is running.*"
   ]
  },
  {
   "cell_type": "markdown",
   "metadata": {},
   "source": [
    "As a simple example of file I/O we will open a file containing a poem and we will write some code to reverse the order of the characters and write it back to disk.  \n",
    "`Limericks` are five line poems intended to amuse the reader. The rhyming scheme is such that the 1st, 2nd, and 5th lines rhyme with each other and the 3rd and 4th lines rhyme separately."
   ]
  },
  {
   "cell_type": "markdown",
   "metadata": {},
   "source": [
    "**The `input()` command.**"
   ]
  },
  {
   "cell_type": "code",
   "execution_count": 3,
   "metadata": {},
   "outputs": [
    {
     "name": "stdout",
     "output_type": "stream",
     "text": [
      "Hello Sneha! Welcome to data input example in Python Programming\n"
     ]
    }
   ],
   "source": [
    "name=input(\"Enter your name: \")\n",
    "print(\"Hello \"+name+\"! Welcome to data input example in Python Programming\")"
   ]
  },
  {
   "cell_type": "code",
   "execution_count": 1,
   "metadata": {},
   "outputs": [],
   "source": [
    "\"\"\"The text file PLimerick located in the Data subdirectory contains a limerick. Define a string variable \n",
    "to hold the file name (and the path to it) by entering the text: `Data/Limerick`\n",
    "into the text box that appears when you execute the input() command below.\"\"\"\n",
    "\n",
    "my_file_name = input('Enter a filename that you want to open: ')"
   ]
  },
  {
   "cell_type": "code",
   "execution_count": null,
   "metadata": {},
   "outputs": [
    {
     "name": "stdout",
     "output_type": "stream",
     "text": [
      "<class 'str'>\n"
     ]
    },
    {
     "data": {
      "text/plain": [
       "'Data/Limerick'"
      ]
     },
     "metadata": {},
     "output_type": "display_data"
    }
   ],
   "source": [
    "# Check your filename ...\n",
    "print(type(my_file_name))\n",
    "my_file_name"
   ]
  },
  {
   "cell_type": "markdown",
   "metadata": {},
   "source": [
    "**The `open()` command**  \n",
    "When opening a file there are several modes that can be set and one must be careful because it is possible and easy to accidently overwrite an existing file. The modes of most interest are: \n",
    "1. `'r'` ... read-only\n",
    "2. `'w'` ... write-only\n",
    "3. `'a'` ... write-only but leave old data intact and append new data at file end"
   ]
  },
  {
   "cell_type": "code",
   "execution_count": null,
   "metadata": {},
   "outputs": [
    {
     "name": "stdout",
     "output_type": "stream",
     "text": [
      "Data/Limerick \n",
      "\n",
      "Wish I Were a Fly on the Wall\n",
      "by Robert D. Cowan\n",
      "\n",
      "There once was a fly on the wall\n",
      "I wonder why didn't it fall\n",
      "Because its feet stuck\n",
      "Or was it just luck\n",
      "Or does gravity miss things so small?"
     ]
    }
   ],
   "source": [
    "\"\"\"Open the file for read-only. Then print it line by line\n",
    "and close the file. To see why the **end=''** is added to the\n",
    "print command, remove it, run, and see what happens.\n",
    "Notice that the open command looks in the current working \n",
    "directory for the file. If you get an error, make sure that you have the correct path to the file.\"\"\"\n",
    "\n",
    "print(my_file_name, '\\n')\n",
    "temp_file = open(my_file_name, \"r\")\n",
    "for line_str in temp_file:\n",
    "    print(line_str, end='')\n",
    "temp_file.close()"
   ]
  },
  {
   "cell_type": "markdown",
   "metadata": {},
   "source": [
    "**Input and Output from a Python Program**  \n",
    "\n",
    "Until now the available ways to communicate with a program have been via what is termed `standard input` and `standard output`. For standard input the input device is the **keyboard** and for standard output the output device is the **terminal window** or in case of jupyter the **interactive window**. Our examples so far have made use of the `print()` command and the `input()` command.\n",
    "\n",
    "Standard input and output are really only useful for simple communications using very short messages. In the typical case in analyzing large data we need to use `file input` and `file output`.\n",
    "\n",
    "The `open()` command above creates a sort of pipe between the operating system of the computer, which can access and modify files stored on disk, and the python program.\n",
    "\n",
    "When it does this the command creates a **file object**. For example:"
   ]
  },
  {
   "cell_type": "code",
   "execution_count": null,
   "metadata": {},
   "outputs": [],
   "source": [
    "# Create a name for a new file to put the reversed poem in.\n",
    "my_new_file_name = my_file_name + 'Backwards'\n",
    "\n",
    "# This creates the new file and, if aleady exists, erases any \n",
    "# old content and replaces it with the first part of the poem\n",
    "fout = open(my_new_file_name, \"w\")\n",
    "fout.close()\n",
    "\n",
    "# Get the data out of the original file and put it into a long\n",
    "# string variable called \"longline\" which we initialize as an\n",
    "# empty string.\n",
    "longline = ''\n",
    "fin = open(my_file_name, \"r\")\n",
    "\n",
    "for line in fin:\n",
    "    longline = longline + line\n",
    "\n",
    "fin.close()"
   ]
  },
  {
   "cell_type": "markdown",
   "metadata": {},
   "source": [
    "## Ag Data Analysis I"
   ]
  },
  {
   "cell_type": "markdown",
   "metadata": {},
   "source": [
    "#### *Discussion 4*: Data Wrangling Methods—String manipulation I\n"
   ]
  },
  {
   "cell_type": "markdown",
   "metadata": {},
   "source": [
    "Now let's look at the string variable longline in two ways.\n",
    "\n",
    "First print as a single string\n",
    "Then use the print command to see how Python formats it for display"
   ]
  },
  {
   "cell_type": "code",
   "execution_count": null,
   "metadata": {},
   "outputs": [
    {
     "data": {
      "text/plain": [
       "\"Wish I Were a Fly on the Wall\\nby Robert D. Cowan\\n\\nThere once was a fly on the wall\\nI wonder why didn't it fall\\nBecause its feet stuck\\nOr was it just luck\\nOr does gravity miss things so small?\""
      ]
     },
     "metadata": {},
     "output_type": "display_data"
    }
   ],
   "source": [
    "# As a string\n",
    "longline"
   ]
  },
  {
   "cell_type": "code",
   "execution_count": null,
   "metadata": {},
   "outputs": [
    {
     "name": "stdout",
     "output_type": "stream",
     "text": [
      "Wish I Were a Fly on the Wall\n",
      "by Robert D. Cowan\n",
      "\n",
      "There once was a fly on the wall\n",
      "I wonder why didn't it fall\n",
      "Because its feet stuck\n",
      "Or was it just luck\n",
      "Or does gravity miss things so small?\n"
     ]
    }
   ],
   "source": [
    "# Via print command\n",
    "print(longline)"
   ]
  },
  {
   "cell_type": "markdown",
   "metadata": {},
   "source": [
    "**Write a function that takes an input string of arbitrary length and returns the string in reverse order ...**\n",
    "\n",
    "Test it on the string `bananas` and then run it on longline to create a string variable backwardslongline."
   ]
  },
  {
   "cell_type": "markdown",
   "metadata": {},
   "source": [
    "**Hint:** A string variable can be iterated through one character at a time just as we did in the Lect 1 with the for loop ... `for x in 'banana:'` Your function will take an input string and return an output string. Before the loop begins the output string will be initialized as the empty string. Then, using the for loop, characters will be read from the input string and pre-pended to the output string, reversing the input."
   ]
  },
  {
   "cell_type": "code",
   "execution_count": null,
   "metadata": {},
   "outputs": [],
   "source": [
    "# Skeleton\n",
    "\n",
    "def anameforyourfunction(instring):\n",
    "    initialize output string\n",
    "    for loop ...\n",
    "    pre-pend to output string\n",
    "    return the output string\n",
    "\n",
    "# Test it on 'bananas' ...\n",
    "\n",
    "anameforyourfunction('bananas')\n",
    "\n",
    "# Reverse longline variable ...\n",
    "\n",
    "backwardslongline = anameforyourfunction(longline)\n"
   ]
  },
  {
   "cell_type": "markdown",
   "metadata": {},
   "source": [
    "**Hint on Line Reverser**\n",
    "\n",
    "The function is to take an input string of arbitrary length as its input and return as output the string in reverse order.\n",
    "\n",
    "For example: \n",
    "\n",
    "1. If the input string is `bananas` then the output should be `sananab`.\n",
    "2. If the input string is `But here's my number, so call me, maybe` then the output should be `ebyam ,em llac os ,rebmun ym s'ereh tuB`"
   ]
  },
  {
   "cell_type": "code",
   "execution_count": null,
   "metadata": {},
   "outputs": [],
   "source": [
    "# Here are some useful ideas ...\n",
    "instring = 'But here\\'s my number, so call me, maybe'; # notice the backslash!"
   ]
  },
  {
   "cell_type": "code",
   "execution_count": null,
   "metadata": {},
   "outputs": [],
   "source": [
    "instring"
   ]
  },
  {
   "cell_type": "code",
   "execution_count": null,
   "metadata": {},
   "outputs": [],
   "source": [
    "# instring is an array of characters and we can address them with the notation ...\n",
    "instring[0]"
   ]
  },
  {
   "cell_type": "code",
   "execution_count": null,
   "metadata": {},
   "outputs": [],
   "source": [
    "# We can find the length of instring using the command\n",
    "len(instring)"
   ]
  },
  {
   "cell_type": "code",
   "execution_count": null,
   "metadata": {},
   "outputs": [],
   "source": [
    "i = 0;\n",
    "while i < len(instring):\n",
    "    print(instring[i])\n",
    "    i = i + 1"
   ]
  },
  {
   "cell_type": "code",
   "execution_count": null,
   "metadata": {},
   "outputs": [],
   "source": [
    "# What if I wanted to go in reverse?\n",
    "\n",
    "j = len(instring) - 1\n",
    "while j >= 0:\n",
    "    print(instring[j])\n",
    "    j = j - 1"
   ]
  },
  {
   "cell_type": "code",
   "execution_count": null,
   "metadata": {},
   "outputs": [],
   "source": [
    "# Solution\n",
    "\n",
    "def mystringreverse(instring):\n",
    "    outstring = ''\n",
    "    for x in instring:\n",
    "        outstring = x + outstring\n",
    "    return outstring"
   ]
  },
  {
   "cell_type": "code",
   "execution_count": null,
   "metadata": {},
   "outputs": [
    {
     "data": {
      "text/plain": [
       "'sananab'"
      ]
     },
     "metadata": {},
     "output_type": "display_data"
    }
   ],
   "source": [
    "# Test it on 'bananas' ...\n",
    "\n",
    "mystringreverse('bananas')"
   ]
  },
  {
   "cell_type": "code",
   "execution_count": null,
   "metadata": {},
   "outputs": [],
   "source": [
    "# Reverse longline variable ...\n",
    "\n",
    "backwardslongline = mystringreverse(longline)"
   ]
  },
  {
   "cell_type": "code",
   "execution_count": null,
   "metadata": {},
   "outputs": [
    {
     "data": {
      "text/plain": [
       "\"?llams os sgniht ssim ytivarg seod rO\\nkcul tsuj ti saw rO\\nkcuts teef sti esuaceB\\nllaf ti t'ndid yhw rednow I\\nllaw eht no ylf a saw ecno erehT\\n\\nnawoC .D treboR yb\\nllaW eht no ylF a ereW I hsiW\""
      ]
     },
     "metadata": {},
     "output_type": "display_data"
    }
   ],
   "source": [
    "# See what it looks like ...\n",
    "\n",
    "backwardslongline"
   ]
  },
  {
   "cell_type": "code",
   "execution_count": null,
   "metadata": {},
   "outputs": [],
   "source": [
    "# Now print to the new file\n",
    "fout = open(my_new_file_name, \"a\")\n",
    "print(backwardslongline, file=fout)\n",
    "\n",
    "fout.close() "
   ]
  },
  {
   "cell_type": "markdown",
   "metadata": {},
   "source": [
    "#### *Discussion 5*: Get USDA Corn yield data from file\n",
    " **Example:** Lets process the raw string data to numerical data and put them into informative columns."
   ]
  },
  {
   "cell_type": "markdown",
   "metadata": {},
   "source": [
    "\n",
    "\n",
    "\n",
    "Data was obtained from the United States Department of Agriculture: <a href=\"https://quickstats.nass.usda.gov/\" target=\"_blank\">Quick Stats</a> (The USDA's National Ag Statistics Service -- we will make more use of this in the lab later)\n",
    "\n",
    "The choices made on the Quick Stats page are shown below ..."
   ]
  },
  {
   "cell_type": "markdown",
   "metadata": {},
   "source": [
    "<img align=\"left\" src='Figs/USDA-NASS-screen-shot.png' width=\"700\"/>"
   ]
  },
  {
   "cell_type": "markdown",
   "metadata": {},
   "source": [
    "**A file is found in the `Data` subdirectory which was obtained by ...**\n",
    "1. Pressing the `Get Data` button on NASS webpage\n",
    "2. Saving it as a `csv` file\n",
    "3. Opening the `csv` file with Microsoft Excel to delete superfluous columns and saving the file as `US-National-CornYields.csv`\n",
    "\n",
    "Our **goal** now is to read this file and use the data to make a plot of average corn yield vs. year."
   ]
  },
  {
   "cell_type": "markdown",
   "metadata": {},
   "source": [
    "To that end let's read in the corn yields data file, print the first few lines, and examine the data, etc."
   ]
  },
  {
   "cell_type": "code",
   "execution_count": null,
   "metadata": {},
   "outputs": [
    {
     "name": "stdout",
     "output_type": "stream",
     "text": [
      "Year,Value\n",
      "2021,176.3\n",
      "2020,172\n",
      "2019,167.5\n",
      "2018,176.4\n",
      "2017,176.6\n",
      "2016,174.6\n",
      "2015,168.4\n",
      "2014,171\n",
      "2013,158.1\n",
      "2012,123.1\n",
      "2011,146.8\n",
      "2010,152.6\n",
      "2009,164.4\n",
      "2008,153.3\n",
      "2007,150.7\n",
      "2006,149.1\n",
      "2005,147.9\n",
      "2004,160.3\n",
      "2003,142.2\n"
     ]
    }
   ],
   "source": [
    "# Put the file name into a str variable for convenience\n",
    "file_name = 'Data/US-National-CornYields.csv'\n",
    "\n",
    "# Open the file for reading only and print the first few \n",
    "# lines.\n",
    "\n",
    "fin = open(file_name, \"r\")\n",
    "\n",
    "for i in range(20):\n",
    "    line = fin.readline()\n",
    "    print(line, end='')\n",
    "\n",
    "fin.close()"
   ]
  },
  {
   "cell_type": "markdown",
   "metadata": {},
   "source": [
    "**Example 1**: **What is here ... ?**\n",
    "\n",
    "The first line of the file contains the header information. Now that we know it, we are not in much need of it. \n",
    "\n",
    "The variable `line` in the cell above has taken in turn the first 20 lines of the file `'Data/US-National-CornYields.csv'`. When the loop ends at the 20th step the variable `line` should still contain the last line read. Let's take a closer look at it."
   ]
  },
  {
   "cell_type": "code",
   "execution_count": null,
   "metadata": {},
   "outputs": [
    {
     "name": "stdout",
     "output_type": "stream",
     "text": [
      "2003,142.2\n",
      "\n",
      "<class 'str'>\n"
     ]
    },
    {
     "data": {
      "text/plain": [
       "'2003,142.2\\n'"
      ]
     },
     "metadata": {},
     "output_type": "display_data"
    }
   ],
   "source": [
    "#view the last line of the 20 lines read in the previous cell from the file\n",
    "print(line)\n",
    "print(type(line))\n",
    "# What is really in the line variable?\n",
    "line"
   ]
  },
  {
   "cell_type": "markdown",
   "metadata": {},
   "source": [
    "##### Clearly the lines are just text strings ...\n",
    "\n",
    "The data fields are separated by a comma, the first field containing the year, and the second containing the U.S. average corn yield for that year. \n",
    "\n",
    "The line ends with a `\\n` new line character"
   ]
  },
  {
   "cell_type": "markdown",
   "metadata": {},
   "source": [
    "We have learnt about string manipulation in previous workbook"
   ]
  },
  {
   "cell_type": "markdown",
   "metadata": {},
   "source": [
    "**Some example string operations ...**"
   ]
  },
  {
   "cell_type": "markdown",
   "metadata": {},
   "source": [
    "**United states wheat yield trends as a plotting example simpliefied ...**"
   ]
  },
  {
   "cell_type": "code",
   "execution_count": null,
   "metadata": {},
   "outputs": [
    {
     "data": {
      "text/plain": [
       "'2003,142.2'"
      ]
     },
     "execution_count": 44,
     "metadata": {},
     "output_type": "execute_result"
    }
   ],
   "source": [
    "# Remember the variable line which was set at the 20th line of the file\n",
    "# Remove the newline character, which was found at the end of each line in the\n",
    "# yield data file\n",
    "\n",
    "line.replace('\\n','')"
   ]
  },
  {
   "cell_type": "code",
   "execution_count": 28,
   "metadata": {},
   "outputs": [
    {
     "data": {
      "text/plain": [
       "['2003', '142.2']"
      ]
     },
     "execution_count": 28,
     "metadata": {},
     "output_type": "execute_result"
    }
   ],
   "source": [
    "# Split the remaining line on the comma. Note that we can cascade these\n",
    "# string methods ...\n",
    "\n",
    "line.replace('\\n','').split(',')"
   ]
  },
  {
   "cell_type": "code",
   "execution_count": 31,
   "metadata": {},
   "outputs": [
    {
     "name": "stdout",
     "output_type": "stream",
     "text": [
      "<class 'int'> 2003\n",
      "<class 'float'> 142.2\n"
     ]
    }
   ],
   "source": [
    "# The elements in the list above are still text strings, which cannot be plotted\n",
    "# until they are converted to numbers (either floats or ints)\n",
    "\n",
    "templist = line.replace('\\n','').split(',')\n",
    "d = int(templist[0])\n",
    "y = float(templist[1])\n",
    "print(type(d),d)\n",
    "print(type(y),y)"
   ]
  },
  {
   "cell_type": "code",
   "execution_count": 3,
   "metadata": {},
   "outputs": [
    {
     "name": "stdout",
     "output_type": "stream",
     "text": [
      "the years for which we have average corn yield data:  [2021. 2020. 2019. 2018. 2017. 2016. 2015. 2014. 2013. 2012. 2011. 2010.\n",
      " 2009. 2008. 2007. 2006. 2005. 2004. 2003. 2002. 2001. 2000. 1999. 1998.\n",
      " 1997. 1996. 1995. 1994. 1993. 1992. 1991. 1990. 1989. 1988. 1987. 1986.\n",
      " 1985. 1984. 1983. 1982. 1981. 1980. 1979. 1978. 1977. 1976. 1975. 1974.\n",
      " 1973. 1972. 1971. 1970. 1969. 1968. 1967. 1966. 1965. 1964. 1963. 1962.\n",
      " 1961. 1960. 1959. 1958. 1957. 1956. 1955. 1954. 1953. 1952. 1951. 1950.\n",
      " 1949. 1948. 1947. 1946. 1945. 1944. 1943. 1942. 1941. 1940. 1939. 1938.\n",
      " 1937. 1936. 1935. 1934. 1933. 1932. 1931. 1930. 1929. 1928. 1927. 1926.\n",
      " 1925. 1924. 1923. 1922. 1921. 1920. 1919. 1918. 1917. 1916. 1915. 1914.\n",
      " 1913. 1912. 1911. 1910. 1909. 1908. 1907. 1906. 1905. 1904. 1903. 1902.\n",
      " 1901. 1900. 1899. 1898. 1897. 1896. 1895. 1894. 1893. 1892. 1891. 1890.\n",
      " 1889. 1888. 1887. 1886. 1885. 1884. 1883. 1882. 1881. 1880. 1879. 1878.\n",
      " 1877. 1876. 1875. 1874. 1873. 1872. 1871. 1870. 1869. 1868. 1867. 1866.]\n"
     ]
    }
   ],
   "source": [
    "import numpy as np\n",
    "import matplotlib.pyplot as plt\n",
    "\n",
    "# Put the file name into a str variable for convenience\n",
    "file_name = 'Data/US-National-CornYields.csv'\n",
    "# Read the whole file using a for loop and create the data to be plotted\n",
    "fin = open(file_name, \"r\")\n",
    "fin.readline() #Read first line to move past header\n",
    "corndates = np.array([])\n",
    "cornyields = np.array([])\n",
    "\n",
    "for line in fin:\n",
    "    templist = line.replace('\\n','').split(',')\n",
    "    corndates = np.append(corndates, float(templist[0]))#append the year values to the array corndates\n",
    "    cornyields = np.append(cornyields, float(templist[1]))#append the yield values to the array cornyields\n",
    "\n",
    "fin.close()\n",
    "print(\"the years for which we have average corn yield data: \",corndates)"
   ]
  },
  {
   "cell_type": "code",
   "execution_count": 19,
   "metadata": {},
   "outputs": [
    {
     "name": "stdout",
     "output_type": "stream",
     "text": [
      "The mean of the histroical corn yield:  64.3051282051282\n",
      "The standard deviation of the histroical corn yield:  49.26904394901762\n",
      "The minimum of the histroical corn yield:  18.2\n",
      "The maximum of the histroical corn yield:  176.6\n",
      "The variance of the histroical corn yield:  2427.43869165023\n"
     ]
    }
   ],
   "source": [
    "print(\"The mean of the histroical corn yield: \",cornyields.mean())\n",
    "print(\"The standard deviation of the histroical corn yield: \",cornyields.std()) \n",
    "print(\"The minimum of the histroical corn yield: \",cornyields.min())\n",
    "print(\"The maximum of the histroical corn yield: \",cornyields.max())\n",
    "print(\"The variance of the histroical corn yield: \",cornyields.var())"
   ]
  },
  {
   "cell_type": "markdown",
   "metadata": {},
   "source": [
    "We are now ready to plot the graph similar to the plot in **Discussion 2**."
   ]
  },
  {
   "cell_type": "code",
   "execution_count": 20,
   "metadata": {},
   "outputs": [
    {
     "data": {
      "image/png": "[encoded data removed]",
      "text/plain": [
       "<Figure size 640x480 with 1 Axes>"
      ]
     },
     "metadata": {},
     "output_type": "display_data"
    }
   ],
   "source": [
    "# Plotting the corn yield trend\n",
    "fig = plt.figure() #create a figure object\n",
    "plt.style.use('classic') #set the style of the plot\n",
    "plt.plot(corndates, cornyields, label=\"Corn Yield\") #plot the data\n",
    "plt.title(\"United States Average Corn Yield by Year\")#set the title of the plot\n",
    "plt.xlabel(\"Year\")#set the x-axis label\n",
    "plt.ylabel(\"Yield in bushels per acre\")#set the y-axis label\n",
    "plt.grid()"
   ]
  },
  {
   "cell_type": "markdown",
   "metadata": {},
   "source": [
    " #### *Discussion 6* : Ag Data Analysis Methods — Graphical Comparison\n",
    " \n",
    " \n",
    " Plot and compare Corn and Wheat yield from Quickstat\n",
    "\n",
    "Copy the corn data from the downloaded csv file and plot them, however might be interesting to compare them . Copying wheat yield data **d,y** cells from above."
   ]
  },
  {
   "cell_type": "code",
   "execution_count": 13,
   "metadata": {},
   "outputs": [],
   "source": [
    "wdates = np.array([2021, 2020, 2019, 2018, 2017, 2016, 2015, 2014, 2013, 2012, 2011, 2010, 2009, 2008, 2007, 2006, 2005, 2004, 2003, 2002, 2001, 2000,1999, 1998, 1997, 1996, 1995, 1994, 1993, 1992, 1991, 1990, 1989, 1988, 1987, 1986, 1985, 1984, 1983, 1982, 1981, 1980, 1979, 1978, 1977, 1976, 1975, 1974, 1973, 1972, 1971, 1970, 1969, 1968, 1967,1966, 1965, 1964, 1963, 1962, 1961, 1960, 1959, 1958, 1957, 1956, 1955, 1954, 1953, 1952, 1951, 1950, 1949, 1948, 1947, 1946, 1945,1944, 1943, 1942, 1941, 1940, 1939, 1938, 1937, 1936, 1935, 1934, 1933, 1932, 1931, 1930, 1929, 1928, 1927, 1926, 1925, 1924, 1923,1922, 1921, 1920, 1919, 1918, 1917, 1916, 1915, 1914, 1913, 1912,1911, 1910, 1909, 1908, 1907, 1906, 1905, 1904, 1903, 1902, 1901,1900, 1899, 1898, 1897, 1896, 1895, 1894, 1893, 1892, 1891, 1890,1889, 1888, 1887, 1886, 1885, 1884, 1883, 1882, 1881, 1880, 1879,1878, 1877, 1876, 1875, 1874, 1873, 1872, 1871, 1870, 1869, 1868, 1867, 1866])\n",
    "wyields = np.array([44.5, 49.7, 51.7, 47.6, 46.4, 52.7, 43.6, 43.7, 47.1, 46.2, 43.6, 46.1, 44.3, 44.8, 40.2, 38.6, 42. , 43.2, 44.2, 35. , 40.2, 42. , 42.7, 43.2, 39.5, 36.3, 35.8, 37.6, 38.2, 39.3, 34.3, 39.5, 32.7, 34.1, 37.7, 34.4, 37.5, 38.8, 39.4, 35.5, 34.5, 33.5, 34.2, 31.4, 30.7, 30.3, 30.6, 27.3, 31.6, 32.7, 33.9, 31. , 30.6, 28.4, 25.8, 26.3, 26.5, 25.8, 25.2, 25. , 23.9, 26.1, 21.6, 27.5, 21.8, 20.2, 19.8, 18.1, 17.3, 18.4, 16. , 16.5, 14.5, 17.9, 18.2, 17.2, 17. , 17.7, 16.4, 19.5, 16.8, 15.3, 14.1, 13.3, 13.6, 12.8, 12.2, 12.1, 11.2, 13.1, 16.3, 14.2, 13. , 15.4, 14.7, 14.7, 12.8, 16. , 13.3, 13.8, 12.7, 13.5, 12.9, 14.8, 13.2, 11.9, 16.7, 16.1, 14.4, 15.1, 12.4, 13.7, 15.5, 14.3, 14.2, 16. , 15.2, 12.9, 13.7, 14.9, 15. , 12.2, 12.5, 15.2, 14. , 12.8, 13.9, 13.5, 12.4, 14.2, 16.5, 12.2, 14. , 12.1, 13.3, 14.1, 11.4, 14.8, 12.3, 15.1, 11. , 13.2, 13. , 13.5, 14.1, 10.9, 11.1, 13. , 12.9, 11.8, 12.2, 12.1, 13.7, 12.9, 12.6, 11. ])        "
   ]
  },
  {
   "cell_type": "code",
   "execution_count": 19,
   "metadata": {},
   "outputs": [
    {
     "name": "stdout",
     "output_type": "stream",
     "text": [
      "The mean of the histroical wheat yield:  23.51346153846154\n",
      "The standard deviation of the histroical wheat yield:  12.106303118509741\n",
      "The minimum of the histroical wheat yield:  10.9\n",
      "The maximum of the histroical wheat yield:  52.7\n",
      "The variance of the histroical wheat yield:  146.5625751972387\n"
     ]
    }
   ],
   "source": [
    "\n",
    "print(\"The mean of the histroical wheat yield: \",wyields.mean())\n",
    "print(\"The standard deviation of the histroical wheat yield: \",wyields.std()) \n",
    "print(\"The minimum of the histroical wheat yield: \",wyields.min())\n",
    "print(\"The maximum of the histroical wheat yield: \",wyields.max())\n",
    "print(\"The variance of the histroical wheat yield: \",wyields.var())"
   ]
  },
  {
   "cell_type": "code",
   "execution_count": 18,
   "metadata": {},
   "outputs": [
    {
     "data": {
      "text/plain": [
       "<matplotlib.legend.Legend at 0x26f9cb13d50>"
      ]
     },
     "execution_count": 18,
     "metadata": {},
     "output_type": "execute_result"
    },
    {
     "data": {
      "image/png": "[encoded data removed]",
      "text/plain": [
       "<Figure size 640x480 with 1 Axes>"
      ]
     },
     "metadata": {},
     "output_type": "display_data"
    }
   ],
   "source": [
    "# Plotting the wheat and corn yield trend on the same axes\n",
    "ax = plt.subplots()\n",
    "ax=ax1\n",
    "plt.style.use('classic')\n",
    "ax=plt.plot(corndates, cornyields, label=\"Corn Yield\") #corn yield data\n",
    "plt.title(\"US Average Corn (blue) and Wheat (green) Yields by Year\")\n",
    "plt.xlabel(\"Year\")\n",
    "plt.ylabel(\"Yield in bushels per acre\")\n",
    "plt.grid()\n",
    "ax1=plt.plot(wdates, wyields, label=\"Wheat yield\")#wheat yield data\n",
    "plt.legend(loc=\"upper left\")"
   ]
  },
  {
   "cell_type": "markdown",
   "metadata": {},
   "source": [
    "\n",
    "#### *Discussion 7*: Data Wrangling Methods —String Manipulation II \n",
    "\n",
    "\n",
    "Get Agricultural land use data \n",
    "\n",
    "\n",
    "We are interested in the land asset in US states. For example,we want to look at the value of land per acre in Arkansas, Colorado and Kansas.  \n",
    "\n",
    "The choices on the USDA NASS quickstat webpage that result in the `csv` below are:\n",
    "\n",
    "<img align=\"left\" src='Figs/USDA-NASS-screen-shot--landvalues.png' width=\"700\"/>"
   ]
  },
  {
   "cell_type": "code",
   "execution_count": 21,
   "metadata": {},
   "outputs": [
    {
     "name": "stdout",
     "output_type": "stream",
     "text": [
      "\"Program\",\"Year\",\"Period\",\"Week Ending\",\"Geo Level\",\"State\",\"State ANSI\",\"Ag District\",\"Ag District Code\",\"County\",\"County ANSI\",\"Zip Code\",\"Region\",\"watershed_code\",\"Watershed\",\"Commodity\",\"Data Item\",\"Domain\",\"Domain Category\",\"Value\",\"CV (%)\"\n",
      "\"SURVEY\",\"2021\",\"YEAR\",\"\",\"STATE\",\"ARKANSAS\",\"05\",\"\",\"\",\"\",\"\",\"\",\"\",\"00000000\",\"\",\"AG LAND\",\"AG LAND, CROPLAND, NON-IRRIGATED - ASSET VALUE, MEASURED IN $ / ACRE\",\"TOTAL\",\"NOT SPECIFIED\",\"2,130\",\"\"\n",
      "\"SURVEY\",\"2021\",\"YEAR\",\"\",\"STATE\",\"CALIFORNIA\",\"06\",\"\",\"\",\"\",\"\",\"\",\"\",\"00000000\",\"\",\"AG LAND\",\"AG LAND, CROPLAND, NON-IRRIGATED - ASSET VALUE, MEASURED IN $ / ACRE\",\"TOTAL\",\"NOT SPECIFIED\",\"5,900\",\"\"\n",
      "\"SURVEY\",\"2021\",\"YEAR\",\"\",\"STATE\",\"COLORADO\",\"08\",\"\",\"\",\"\",\"\",\"\",\"\",\"00000000\",\"\",\"AG LAND\",\"AG LAND, CROPLAND, NON-IRRIGATED - ASSET VALUE, MEASURED IN $ / ACRE\",\"TOTAL\",\"NOT SPECIFIED\",\"1,400\",\"\"\n",
      "\"SURVEY\",\"2021\",\"YEAR\",\"\",\"STATE\",\"FLORIDA\",\"12\",\"\",\"\",\"\",\"\",\"\",\"\",\"00000000\",\"\",\"AG LAND\",\"AG LAND, CROPLAND, NON-IRRIGATED - ASSET VALUE, MEASURED IN $ / ACRE\",\"TOTAL\",\"NOT SPECIFIED\",\"6,320\",\"\"\n",
      "\"SURVEY\",\"2021\",\"YEAR\",\"\",\"STATE\",\"GEORGIA\",\"13\",\"\",\"\",\"\",\"\",\"\",\"\",\"00000000\",\"\",\"AG LAND\",\"AG LAND, CROPLAND, NON-IRRIGATED - ASSET VALUE, MEASURED IN $ / ACRE\",\"TOTAL\",\"NOT SPECIFIED\",\"3,130\",\"\"\n",
      "\"SURVEY\",\"2021\",\"YEAR\",\"\",\"STATE\",\"IDAHO\",\"16\",\"\",\"\",\"\",\"\",\"\",\"\",\"00000000\",\"\",\"AG LAND\",\"AG LAND, CROPLAND, NON-IRRIGATED - ASSET VALUE, MEASURED IN $ / ACRE\",\"TOTAL\",\"NOT SPECIFIED\",\"1,890\",\"\"\n",
      "\"SURVEY\",\"2021\",\"YEAR\",\"\",\"STATE\",\"KANSAS\",\"20\",\"\",\"\",\"\",\"\",\"\",\"\",\"00000000\",\"\",\"AG LAND\",\"AG LAND, CROPLAND, NON-IRRIGATED - ASSET VALUE, MEASURED IN $ / ACRE\",\"TOTAL\",\"NOT SPECIFIED\",\"2,250\",\"\"\n",
      "\"SURVEY\",\"2021\",\"YEAR\",\"\",\"STATE\",\"LOUISIANA\",\"22\",\"\",\"\",\"\",\"\",\"\",\"\",\"00000000\",\"\",\"AG LAND\",\"AG LAND, CROPLAND, NON-IRRIGATED - ASSET VALUE, MEASURED IN $ / ACRE\",\"TOTAL\",\"NOT SPECIFIED\",\"3,020\",\"\"\n",
      "\"SURVEY\",\"2021\",\"YEAR\",\"\",\"STATE\",\"MISSISSIPPI\",\"28\",\"\",\"\",\"\",\"\",\"\",\"\",\"00000000\",\"\",\"AG LAND\",\"AG LAND, CROPLAND, NON-IRRIGATED - ASSET VALUE, MEASURED IN $ / ACRE\",\"TOTAL\",\"NOT SPECIFIED\",\"2,830\",\"\"\n",
      "\"SURVEY\",\"2021\",\"YEAR\",\"\",\"STATE\",\"MISSOURI\",\"29\",\"\",\"\",\"\",\"\",\"\",\"\",\"00000000\",\"\",\"AG LAND\",\"AG LAND, CROPLAND, NON-IRRIGATED - ASSET VALUE, MEASURED IN $ / ACRE\",\"TOTAL\",\"NOT SPECIFIED\",\"3,700\",\"\"\n",
      "\"SURVEY\",\"2021\",\"YEAR\",\"\",\"STATE\",\"MONTANA\",\"30\",\"\",\"\",\"\",\"\",\"\",\"\",\"00000000\",\"\",\"AG LAND\",\"AG LAND, CROPLAND, NON-IRRIGATED - ASSET VALUE, MEASURED IN $ / ACRE\",\"TOTAL\",\"NOT SPECIFIED\",\"835\",\"\"\n",
      "\"SURVEY\",\"2021\",\"YEAR\",\"\",\"STATE\",\"NEBRASKA\",\"31\",\"\",\"\",\"\",\"\",\"\",\"\",\"00000000\",\"\",\"AG LAND\",\"AG LAND, CROPLAND, NON-IRRIGATED - ASSET VALUE, MEASURED IN $ / ACRE\",\"TOTAL\",\"NOT SPECIFIED\",\"3,990\",\"\"\n",
      "\"SURVEY\",\"2021\",\"YEAR\",\"\",\"STATE\",\"NEW MEXICO\",\"35\",\"\",\"\",\"\",\"\",\"\",\"\",\"00000000\",\"\",\"AG LAND\",\"AG LAND, CROPLAND, NON-IRRIGATED - ASSET VALUE, MEASURED IN $ / ACRE\",\"TOTAL\",\"NOT SPECIFIED\",\"485\",\"\"\n",
      "\"SURVEY\",\"2021\",\"YEAR\",\"\",\"STATE\",\"OKLAHOMA\",\"40\",\"\",\"\",\"\",\"\",\"\",\"\",\"00000000\",\"\",\"AG LAND\",\"AG LAND, CROPLAND, NON-IRRIGATED - ASSET VALUE, MEASURED IN $ / ACRE\",\"TOTAL\",\"NOT SPECIFIED\",\"1,790\",\"\"\n",
      "\"SURVEY\",\"2021\",\"YEAR\",\"\",\"STATE\",\"OREGON\",\"41\",\"\",\"\",\"\",\"\",\"\",\"\",\"00000000\",\"\",\"AG LAND\",\"AG LAND, CROPLAND, NON-IRRIGATED - ASSET VALUE, MEASURED IN $ / ACRE\",\"TOTAL\",\"NOT SPECIFIED\",\"2,340\",\"\"\n",
      "\"SURVEY\",\"2021\",\"YEAR\",\"\",\"STATE\",\"SOUTH DAKOTA\",\"46\",\"\",\"\",\"\",\"\",\"\",\"\",\"00000000\",\"\",\"AG LAND\",\"AG LAND, CROPLAND, NON-IRRIGATED - ASSET VALUE, MEASURED IN $ / ACRE\",\"TOTAL\",\"NOT SPECIFIED\",\"3,360\",\"\"\n",
      "\"SURVEY\",\"2021\",\"YEAR\",\"\",\"STATE\",\"TEXAS\",\"48\",\"\",\"\",\"\",\"\",\"\",\"\",\"00000000\",\"\",\"AG LAND\",\"AG LAND, CROPLAND, NON-IRRIGATED - ASSET VALUE, MEASURED IN $ / ACRE\",\"TOTAL\",\"NOT SPECIFIED\",\"2,090\",\"\"\n",
      "\"SURVEY\",\"2021\",\"YEAR\",\"\",\"STATE\",\"UTAH\",\"49\",\"\",\"\",\"\",\"\",\"\",\"\",\"00000000\",\"\",\"AG LAND\",\"AG LAND, CROPLAND, NON-IRRIGATED - ASSET VALUE, MEASURED IN $ / ACRE\",\"TOTAL\",\"NOT SPECIFIED\",\"1,550\",\"\"\n",
      "\"SURVEY\",\"2021\",\"YEAR\",\"\",\"STATE\",\"WASHINGTON\",\"53\",\"\",\"\",\"\",\"\",\"\",\"\",\"00000000\",\"\",\"AG LAND\",\"AG LAND, CROPLAND, NON-IRRIGATED - ASSET VALUE, MEASURED IN $ / ACRE\",\"TOTAL\",\"NOT SPECIFIED\",\"1,310\",\"\"\n"
     ]
    }
   ],
   "source": [
    "# Put the file name into a str variable for convenience\n",
    "file_name = 'Data/US-LandValue-by-State-and-Year.csv'\n",
    "\n",
    "# Open the file for reading only and print the first few \n",
    "# lines.\n",
    "\n",
    "fin = open(file_name, \"r\")\n",
    "\n",
    "for i in range(20):\n",
    "    line = fin.readline()\n",
    "    print(line, end='')\n",
    "\n",
    "fin.close()"
   ]
  },
  {
   "cell_type": "markdown",
   "metadata": {},
   "source": [
    "**The situation here is clearly more complicated than what we've seen before ...**\n",
    "\n",
    "Let's look at the header and a representative data line separately"
   ]
  },
  {
   "cell_type": "code",
   "execution_count": 22,
   "metadata": {},
   "outputs": [],
   "source": [
    "fin = open(file_name, \"r\")\n",
    "\n",
    "headerline = fin.readline()\n",
    "dataline = fin.readline()\n",
    "\n",
    "fin.close()"
   ]
  },
  {
   "cell_type": "code",
   "execution_count": 23,
   "metadata": {},
   "outputs": [
    {
     "data": {
      "text/plain": [
       "('\"Program\",\"Year\",\"Period\",\"Week Ending\",\"Geo Level\",\"State\",\"State ANSI\",\"Ag District\",\"Ag District Code\",\"County\",\"County ANSI\",\"Zip Code\",\"Region\",\"watershed_code\",\"Watershed\",\"Commodity\",\"Data Item\",\"Domain\",\"Domain Category\",\"Value\",\"CV (%)\"\\n',\n",
       " '\"SURVEY\",\"2021\",\"YEAR\",\"\",\"STATE\",\"ARKANSAS\",\"05\",\"\",\"\",\"\",\"\",\"\",\"\",\"00000000\",\"\",\"AG LAND\",\"AG LAND, CROPLAND, NON-IRRIGATED - ASSET VALUE, MEASURED IN $ / ACRE\",\"TOTAL\",\"NOT SPECIFIED\",\"2,130\",\"\"\\n')"
      ]
     },
     "execution_count": 23,
     "metadata": {},
     "output_type": "execute_result"
    }
   ],
   "source": [
    "headerline, dataline"
   ]
  },
  {
   "cell_type": "markdown",
   "metadata": {},
   "source": [
    "`Looking at these we see ...`\n",
    "\n",
    "* There are many columns that are superfluous for our application. We want to look at the trends over time of the values of ag land and attempt to correlate with corn productivity.\n",
    "\n",
    "* To this end the columns of interest are `Year`, `State`, and `Value` since we already know the context\n",
    "\n",
    "* We also note that comma can appear in the data both in the text string under the \"Data Item\" column and in the \"Value\" column. So we don't want to simply split on comma as it will create false columns. One thing we could do is to split on `\",\"` and use the fact that they've put these superfluous double quotes on the lines.\n",
    "\n"
   ]
  },
  {
   "cell_type": "markdown",
   "metadata": {},
   "source": [
    "\n",
    "\n",
    "Let's try more string.split method with `dataline` ..."
   ]
  },
  {
   "cell_type": "code",
   "execution_count": 24,
   "metadata": {},
   "outputs": [
    {
     "data": {
      "text/plain": [
       "['\"SURVEY',\n",
       " '2021',\n",
       " 'YEAR',\n",
       " '',\n",
       " 'STATE',\n",
       " 'ARKANSAS',\n",
       " '05',\n",
       " '',\n",
       " '',\n",
       " '',\n",
       " '',\n",
       " '',\n",
       " '',\n",
       " '00000000',\n",
       " '',\n",
       " 'AG LAND',\n",
       " 'AG LAND, CROPLAND, NON-IRRIGATED - ASSET VALUE, MEASURED IN $ / ACRE',\n",
       " 'TOTAL',\n",
       " 'NOT SPECIFIED',\n",
       " '2,130',\n",
       " '\"\\n']"
      ]
     },
     "execution_count": 24,
     "metadata": {},
     "output_type": "execute_result"
    }
   ],
   "source": [
    "# Experimenting with split method for finding the data we want ...\n",
    "\n",
    "dataline.split('\",\"')"
   ]
  },
  {
   "cell_type": "code",
   "execution_count": 25,
   "metadata": {},
   "outputs": [
    {
     "data": {
      "text/plain": [
       "'2021'"
      ]
     },
     "execution_count": 25,
     "metadata": {},
     "output_type": "execute_result"
    }
   ],
   "source": [
    "# The year field is in positon 1 of the list ...\n",
    "\n",
    "dataline.split('\",\"')[1]"
   ]
  },
  {
   "cell_type": "code",
   "execution_count": null,
   "metadata": {},
   "outputs": [],
   "source": [
    "# The state field is in positon 5 of the list ...\n",
    "\n",
    "dataline.split('\",\"')[5]"
   ]
  },
  {
   "cell_type": "code",
   "execution_count": null,
   "metadata": {},
   "outputs": [],
   "source": [
    "# The value field is in positon 19 of the list ...\n",
    "\n",
    "dataline.split('\",\"')[19]"
   ]
  },
  {
   "cell_type": "code",
   "execution_count": null,
   "metadata": {},
   "outputs": [],
   "source": [
    "# Can we convert this number to a float?\n",
    "\n",
    "float(dataline.split('\",\"')[19])"
   ]
  },
  {
   "cell_type": "code",
   "execution_count": null,
   "metadata": {},
   "outputs": [],
   "source": [
    "# We can but the float() function does not like the comma in the string. So we first\n",
    "# remove it and then call float ...\n",
    "\n",
    "dataline.split('\",\"')[19].replace(',','')"
   ]
  },
  {
   "cell_type": "code",
   "execution_count": null,
   "metadata": {},
   "outputs": [],
   "source": [
    "# Now call float() and it works!!\n",
    "\n",
    "float(dataline.split('\",\"')[19].replace(',',''))"
   ]
  },
  {
   "cell_type": "markdown",
   "metadata": {},
   "source": [
    "#### *Discussion 8*: Ag Data Analysis Methods — Graphical Comparison\n",
    "\n",
    "Let's get land values data out for some states of interest ... COLORADO, ARKANSAS, KANSAS"
   ]
  },
  {
   "cell_type": "code",
   "execution_count": 26,
   "metadata": {},
   "outputs": [],
   "source": [
    "# Put the file name into a str variable for convenience\n",
    "file_name = 'Data/US-LandValue-by-State-and-Year.csv'\n",
    "\n",
    "# Open the file for reading only and print the first few \n",
    "# lines.\n",
    "def landValueByState(state1,state2, state3):\n",
    "    fin = open(file_name, \"r\")\n",
    "    fin.readline() #Read first line to move past header\n",
    "    #declare empty arrays for year and land value for each state. This is needed to reset the arrays each time the cell is run. \n",
    "    #Python will append the data to the arrays each time the cell is run if the arrays are not reset.\n",
    "    d_st1 = np.array([])\n",
    "    v_st1 = np.array([])\n",
    "    d_st2 = np.array([])\n",
    "    v_st2 = np.array([])\n",
    "    d_st3 = np.array([])\n",
    "    v_st3 = np.array([])\n",
    "\n",
    "    for line in fin:\n",
    "        templist = line.split('\",\"')\n",
    "        state = templist[5]\n",
    "        if state == state1:\n",
    "            d_st1 = np.append(d_st1, float(templist[1])) #read the year\n",
    "            v_st1 = np.append(v_st1, float(templist[19].replace(',','')))#read the land value in dollars per acre for arkansas\n",
    "        elif state == state2:\n",
    "            d_st2 = np.append(d_st2, float(templist[1]))#read the year\n",
    "            v_st2 = np.append(v_st2, float(templist[19].replace(',','')))#read the land value in dollars per acre for colorado\n",
    "        elif state == state3:\n",
    "            d_st3 = np.append(d_st3, float(templist[1]))#read the year\n",
    "            v_st3 = np.append(v_st3, float(templist[19].replace(',','')))#read the land value in dollars per acre for kansas\n",
    "            \n",
    "    fin.close()\n",
    "    return d_st1, v_st1, d_st2, v_st2, d_st3, v_st3"
   ]
  },
  {
   "cell_type": "code",
   "execution_count": 24,
   "metadata": {},
   "outputs": [],
   "source": [
    "d_ark,v_ark,d_col,v_col,d_kan,v_kan = landValueByState(\"ARKANSAS\",\"COLORADO\",\"KANSAS\")"
   ]
  },
  {
   "cell_type": "code",
   "execution_count": 27,
   "metadata": {},
   "outputs": [
    {
     "data": {
      "text/plain": [
       "(array([2021., 2020., 2019., 2018., 2017., 2016., 2015., 2014., 2013.,\n",
       "        2012., 2011., 2010., 2009., 2008., 2007., 2006., 2005., 2004.,\n",
       "        2003., 2002., 2001., 2000., 1999., 1998., 1997.]),\n",
       " array([2250., 1970., 2050., 1960., 1910., 1970., 2110., 2160., 1840.,\n",
       "        1590., 1290., 1060.,  981.,  980.,  880.,  820.,  770.,  650.,\n",
       "         645.,  640.,  635.,  630.,  625.,  620.,  615.]))"
      ]
     },
     "execution_count": 27,
     "metadata": {},
     "output_type": "execute_result"
    }
   ],
   "source": [
    "d_ark,v_kan"
   ]
  },
  {
   "cell_type": "code",
   "execution_count": 28,
   "metadata": {},
   "outputs": [
    {
     "data": {
      "text/plain": [
       "(880.0, 2130.0, 1532.8, 405.1816382809073)"
      ]
     },
     "execution_count": 28,
     "metadata": {},
     "output_type": "execute_result"
    }
   ],
   "source": [
    "v_ark.min(),v_ark.max(),v_ark.mean(),v_ark.std()"
   ]
  },
  {
   "cell_type": "code",
   "execution_count": 32,
   "metadata": {},
   "outputs": [
    {
     "name": "stdout",
     "output_type": "stream",
     "text": [
      "the minimum value of non-irrigated land in Arkansas, Colorado and kansas:  880.0 380.0 615.0\n"
     ]
    },
    {
     "ename": "",
     "evalue": "",
     "output_type": "error",
     "traceback": [
      "\u001b[1;31mThe Kernel crashed while executing code in the the current cell or a previous cell. Please review the code in the cell(s) to identify a possible cause of the failure. Click <a href='https://aka.ms/vscodeJupyterKernelCrash'>here</a> for more info. View Jupyter <a href='command:jupyter.viewOutput'>log</a> for further details."
     ]
    }
   ],
   "source": [
    "print(\"the minimum value of non-irrigated land in Arkansas, Colorado and kansas: \",v_ark.min(),v_col.min(),v_kan.min())"
   ]
  },
  {
   "cell_type": "code",
   "execution_count": 57,
   "metadata": {},
   "outputs": [
    {
     "data": {
      "text/plain": [
       "<matplotlib.legend.Legend at 0x203050fee50>"
      ]
     },
     "execution_count": 57,
     "metadata": {},
     "output_type": "execute_result"
    },
    {
     "data": {
      "image/png": "[encoded data removed]",
      "text/plain": [
       "<Figure size 640x480 with 1 Axes>"
      ]
     },
     "metadata": {},
     "output_type": "display_data"
    }
   ],
   "source": [
    "# Plotting the land value trends on the same axes\n",
    "fig = plt.figure()\n",
    "plt.style.use('classic')\n",
    "plt.plot(d_ark, v_ark, '*', label=\"Arkansas\")\n",
    "plt.title(\"US Average Non-irrigated Land Values by Year\")\n",
    "plt.xlabel(\"Year\")\n",
    "plt.ylabel(\"Dollars per acre\")\n",
    "plt.grid()\n",
    "plt.plot(d_col, v_col, '.', label=\"Colorado\")\n",
    "plt.plot(d_kan, v_kan, 'o', label=\"Kansas\")\n",
    "plt.legend(loc=\"upper left\")#add a legend to the plot and place it in the upper left corner"
   ]
  }
 ],
 "metadata": {
  "kernelspec": {
   "display_name": "Python 3",
   "language": "python",
   "name": "python3"
  },
  "language_info": {
   "codemirror_mode": {
    "name": "ipython",
    "version": 3
   },
   "file_extension": ".py",
   "mimetype": "text/x-python",
   "name": "python",
   "nbconvert_exporter": "python",
   "pygments_lexer": "ipython3",
   "version": "3.11.6"
  }
 },
 "nbformat": 4,
 "nbformat_minor": 2
}
