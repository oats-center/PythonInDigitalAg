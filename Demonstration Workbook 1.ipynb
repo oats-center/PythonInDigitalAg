{
 "cells": [
  {
   "cell_type": "markdown",
   "metadata": {},
   "source": [
    "\n",
    "# Demonstration Workbook 1\n",
    "\n",
    "#### Outline of topics discussed in this module:\n",
    "\n",
    "1. Brief history of python\n",
    "2. Python's place in the family of programming languages\n",
    "3. Basic variables (integer, float, string)\n",
    "4. Conversions between the basic variable types\n",
    "5. Boolean variables\n",
    "6. \"Collection\" data types\n",
    "    a. lists\n",
    "    b. tuples\n",
    "    c. sets\n",
    "    d. dictionaries\n",
    "7. Operators\n",
    "8. Control statements\n",
    "9. Functions\n",
    "10. Major Python Packages (NumPy, Pandas, matplotlib)\n",
    "11. Agricultural data analytics examples\n",
    "\n",
    "\n",
    "#### Some useful background material that will be referenced through out the module:\n",
    "\n",
    "The <a href=\"https://the-examples-book.com/book/introduction\" target=\"_blank\">Purdue Data Mine Examples Book</a> contains many useful chapters on data science. While they have not been directly designed for this class, they may be useful. You will not need to use scholar to perform the exercises of this class so don't worry about that part. Here is a direct link to the <a href=\"https://the-examples-book.com/book/python/introduction\" target=\"_blank\">Python chapter.</a>\n",
    "\n",
    "\n",
    "Additional useful links for Python include:\n",
    "\n",
    "<a href=\"https://docs.python.org/3/\" target=\"_blank\">Python 3.9.4 documentation</a>\n",
    "\n",
    "The <a href=\"https://pypi.org/\" target=\"_blank\">Python Package Index</a> (This contains many of the useful Python \"add-on\" packages such as the math package)\n",
    "\n",
    "The <a href=\"https://numpy.org/\" target=\"_blank\">Numpy Package</a> (This contains specialized array (vector and matrix) routines. Numpy stands for \"Numerical Python\")\n",
    "\n",
    "United States Department of Agriculture: <a href=\"https://quickstats.nass.usda.gov/\" target=\"_blank\">Quick Stats</a> (The USDA's National Ag Statistics Service -- go here and familiarize yourself with the available data)\n",
    "\n",
    "You will need to use Git and Github to get the example code for the class. Some useful tutorial links are:\n",
    "\n",
    "<a href=\"https://www.youtube.com/watch?v=USjZcfj8yxE\" target=\"_blank\">Learn Git in 15 Minutes</a> (Colt Steele)\n",
    "\n",
    "<a href=\"https://www.youtube.com/watch?v=USjZcfj8yxE\" target=\"_blank\">Learn Github in 20 Minutes</a> (Colt Steele)\n",
    "\n",
    "It makes sense to create a free github account for yourself: <a href=\"https://github.com/\" target=\"_blank\">Github</a>"
   ]
  },
  {
   "cell_type": "markdown",
   "metadata": {},
   "source": [
    "#### **History of Python, Etc.**\n",
    "\n",
    "- Conceived by Guido van Rossum in December 1989 at the Center Wiskunde and Informatica (Dutch national research institute for mathematics and computer science).\n",
    "- Python version 1.0 in January 1994.\n",
    "- GNU General Public License (open source) since version 1.6.1.\n",
    "- Python version 2.0 in October 2000.\n",
    "- Python Software Foundation formed in 2001 and a new open source license.\n",
    "- Python version 2.7 was the last release in the version 2 series. Support ended January 2020.\n",
    "-Python version 3.0 released December 2008. It broke backward compatibility with much of the verson 2 code.\n",
    "- Latest version is 3.10 (October 2021)."
   ]
  },
  {
   "cell_type": "markdown",
   "metadata": {},
   "source": [
    "#### According to stackoverflow survey of profession software developers in 2021 and 2023 ...\n",
    "\n",
    "<img align=\"left\" src='Figs/DeveloperSurvey2021.png' width=\"450\"/>\n",
    "<img align=\"right\" src='Figs/DeveloperSurvey2023.png' width=\"450\"/>"
   ]
  },
  {
   "cell_type": "markdown",
   "metadata": {},
   "source": [
    "`checkout the Stack overflow developers survey results here` [2021](https://insights.stackoverflow.com/survey/2021), [2022](https://survey.stackoverflow.co/2022#overview), [2023](https://survey.stackoverflow.co/2023/#education-ed-level-learn)"
   ]
  },
  {
   "cell_type": "markdown",
   "metadata": {},
   "source": [
    "#### As concerns languages for data science ...\n",
    "The contenders are Python and R.   \n",
    "For **Python**\n",
    "\n",
    "* Most popular among data scientists.\n",
    "* Very useful in machine learning and artificial intelligence because of the availabilty of popular libraries such as scikit-learn, matplotlib, and tensorflow, etc.\n",
    "\n",
    "For **R**\n",
    "* A scripting language.\n",
    "* Very good support for statistical computation and visulalization.\n",
    "\n",
    "This course is focussed on Python instead of R because that is a better for the work of my research group. For an independent comparison of the two: <a href=\"https://www.ibm.com/cloud/blog/python-vs-r\" target=\"_blank\">Python vs. R: What's the Difference?</a>"
   ]
  },
  {
   "cell_type": "markdown",
   "metadata": {},
   "source": [
    "## Python Programming Language: Basics of Programming"
   ]
  },
  {
   "cell_type": "markdown",
   "metadata": {},
   "source": [
    "#### *Dicussion 1*: Introduction to Python basic variables\n",
    "\n",
    "Python uses something called **dynamic typing**, which means that a variable is created when a value is assigned to it. The type can be changed after originally set. There are a few rules on variable names:\n",
    "\n",
    "* Must start with a letter or underscore\n",
    "* Names are case-sensitive\n",
    "\n",
    "A python variable is more than just its value. It must also contain information about the type of the value. There is overhead associated with such flexibility. The code below illustrates three of the variable types: **integer, float, and string**."
   ]
  },
  {
   "cell_type": "code",
   "execution_count": 4,
   "metadata": {
    "tags": []
   },
   "outputs": [
    {
     "name": "stdout",
     "output_type": "stream",
     "text": [
      "The type of x is: <class 'int'>\n",
      "\n",
      "The value of x is: 4\n"
     ]
    }
   ],
   "source": [
    "\"\"\"Integer, i.e., whole numbers both positive and negative. Later on \n",
    "we will illustrate formatting the print command.\"\"\"\n",
    "x = 4 # declare x to be an integer\n",
    "print('The type of x is:', type(x)) # print the type of x\n",
    "print() # Just to give a space.\n",
    "print('The value of x is:', x) # print the value of x"
   ]
  },
  {
   "cell_type": "code",
   "execution_count": 3,
   "metadata": {},
   "outputs": [
    {
     "name": "stdout",
     "output_type": "stream",
     "text": [
      "The type of x is:\n",
      "<class 'float'>\n",
      "\n",
      "The value of x is:\n",
      "4.0\n"
     ]
    }
   ],
   "source": [
    "# Floating point, i.e., computer representation of real numbers.\n",
    "x = 4.0\n",
    "print('The type of x is:')\n",
    "print(type(x))\n",
    "print() # Just to give a space.\n",
    "print('The value of x is:')\n",
    "print(x)"
   ]
  },
  {
   "cell_type": "code",
   "execution_count": 3,
   "metadata": {},
   "outputs": [
    {
     "name": "stdout",
     "output_type": "stream",
     "text": [
      "The type of x is:\n",
      "<class 'str'>\n",
      "\n",
      "The value of x is:\n",
      "four\n"
     ]
    }
   ],
   "source": [
    "# Strings. A string is a sequence of characters. They can be delimited\n",
    "# by single quotes ('blah') or double quotes (\"blah blah\")\n",
    "x = \"four\"\n",
    "print('The type of x is:')\n",
    "print(type(x))\n",
    "print() # Just to give a space.\n",
    "print('The value of x is:')\n",
    "print(x)"
   ]
  },
  {
   "cell_type": "markdown",
   "metadata": {},
   "source": [
    " **datatype conversion**  \n",
    "- Python has a built-in command `float()` that can convert integers and certain strings to floating point numbers.  \n"
   ]
  },
  {
   "cell_type": "code",
   "execution_count": 2,
   "metadata": {},
   "outputs": [
    {
     "name": "stdout",
     "output_type": "stream",
     "text": [
      "The type of x is:  <class 'int'>\n",
      "The type of y is:  <class 'str'>\n",
      "The value of x is:  4\n",
      "The value of y is:  4\n"
     ]
    },
    {
     "ename": "TypeError",
     "evalue": "unsupported operand type(s) for +: 'int' and 'str'",
     "output_type": "error",
     "traceback": [
      "\u001b[1;31m---------------------------------------------------------------------------\u001b[0m",
      "\u001b[1;31mTypeError\u001b[0m                                 Traceback (most recent call last)",
      "\u001b[1;32md:\\OneDrive - purdue.edu\\AutomatingAgFieldTrials\\Summer2023\\HEC_Paper\\ASABEPaperPythonTutorial-main\\ExampleWorkbook1.ipynb Cell 10\u001b[0m line \u001b[0;36m8\n\u001b[0;32m      <a href='vscode-notebook-cell:/d%3A/OneDrive%20-%20purdue.edu/AutomatingAgFieldTrials/Summer2023/HEC_Paper/ASABEPaperPythonTutorial-main/ExampleWorkbook1.ipynb#X12sZmlsZQ%3D%3D?line=5'>6</a>\u001b[0m \u001b[39mprint\u001b[39m(\u001b[39m'\u001b[39m\u001b[39mThe value of x is: \u001b[39m\u001b[39m'\u001b[39m,x)\n\u001b[0;32m      <a href='vscode-notebook-cell:/d%3A/OneDrive%20-%20purdue.edu/AutomatingAgFieldTrials/Summer2023/HEC_Paper/ASABEPaperPythonTutorial-main/ExampleWorkbook1.ipynb#X12sZmlsZQ%3D%3D?line=6'>7</a>\u001b[0m \u001b[39mprint\u001b[39m(\u001b[39m'\u001b[39m\u001b[39mThe value of y is: \u001b[39m\u001b[39m'\u001b[39m,y)\n\u001b[1;32m----> <a href='vscode-notebook-cell:/d%3A/OneDrive%20-%20purdue.edu/AutomatingAgFieldTrials/Summer2023/HEC_Paper/ASABEPaperPythonTutorial-main/ExampleWorkbook1.ipynb#X12sZmlsZQ%3D%3D?line=7'>8</a>\u001b[0m \u001b[39mprint\u001b[39m(\u001b[39m'\u001b[39m\u001b[39mThe sum of x and y is: \u001b[39m\u001b[39m'\u001b[39m,x\u001b[39m+\u001b[39;49my)\n",
      "\u001b[1;31mTypeError\u001b[0m: unsupported operand type(s) for +: 'int' and 'str'"
     ]
    }
   ],
   "source": [
    "# Start with an int.\n",
    "x = 4 # declare x to be an integer\n",
    "y = \"4\" # declare y to be a string        \n",
    "print('The type of x is: ',type(x))\n",
    "print('The type of y is: ',type(y))\n",
    "print('The value of x is: ',x)\n",
    "print('The value of y is: ',y)\n",
    "print('The sum of x and y is: ',x+y) # the error from this statement is intentional and self-explanatory."
   ]
  },
  {
   "cell_type": "code",
   "execution_count": 6,
   "metadata": {},
   "outputs": [
    {
     "name": "stdout",
     "output_type": "stream",
     "text": [
      "The type of x is: <class 'float'>\n",
      "The value of x is:  4.0\n",
      "The type of y is: <class 'float'>\n",
      "The value of y is:  4.0\n",
      "The sum of x and y is:  8.0\n"
     ]
    }
   ],
   "source": [
    "# Convert to float\n",
    "x = float(x)\n",
    "y = float(y)\n",
    "print('The type of x is:',type(x))\n",
    "print('The value of x is: ',x)\n",
    "print('The type of y is:',type(y))\n",
    "print('The value of y is: ',y)\n",
    "print('The sum of x and y is: ',x+y)# did we correct the error?\n"
   ]
  },
  {
   "cell_type": "markdown",
   "metadata": {},
   "source": [
    "There is also a python command `int()`, which can covert floats to integer and certain strings to integer, and a command `str()`, which converts numbers to strings."
   ]
  },
  {
   "cell_type": "markdown",
   "metadata": {},
   "source": [
    "#### *Discussion 2* :More datatypes  \n",
    "**Boolean datatype**\n",
    "A Boolean value has a python type **bool**. The possible values a Boolean variable can take are: **True** and **False**. These are typically used to hold the results of logical tests, which in turn can be used to control the flow of a python program."
   ]
  },
  {
   "cell_type": "code",
   "execution_count": 8,
   "metadata": {},
   "outputs": [
    {
     "name": "stdout",
     "output_type": "stream",
     "text": [
      "The type of x is:\n",
      "<class 'bool'>\n",
      "\n",
      "The value of x is:\n",
      "True\n"
     ]
    }
   ],
   "source": [
    "x = True # declare x to be a boolean\n",
    "print('The type of x is:')\n",
    "print(type(x))\n",
    "print()\n",
    "print('The value of x is:')\n",
    "print(x)"
   ]
  },
  {
   "cell_type": "markdown",
   "metadata": {},
   "source": [
    "**Collection data types**  \n",
    "There are four **collection** data types: **lists**, **tuples**, **sets**, and **dictionaries**. (Some say that a **string** is a collection data type since it is a ordered set of characters). For now we will only consider lists and sets."
   ]
  },
  {
   "cell_type": "markdown",
   "metadata": {},
   "source": [
    " <u>Lists</u> are ordered, changeable, and allow duplicate members:"
   ]
  },
  {
   "cell_type": "code",
   "execution_count": 3,
   "metadata": {},
   "outputs": [
    {
     "name": "stdout",
     "output_type": "stream",
     "text": [
      "The type of Coloradothings is:\n",
      "<class 'list'>\n",
      "\n",
      "The length of Coloradothings is:\n",
      "5\n",
      "The first element of Coloradothings is: wheat\n",
      "\n",
      "The value of Coloradothings is:\n",
      "['wheat', 'corn', 'sugar beets', 'pinto beans', 1959]\n"
     ]
    }
   ],
   "source": [
    "# Create a list with 5 elements.\n",
    "Coloradothings = [\"wheat\", \"corn\", \"sugar beets\", \"pinto beans\", 1959] # declare Coloradothings to be a list\n",
    "print('The type of Coloradothings is:')\n",
    "print(type(Coloradothings))\n",
    "print()# Just to give a space. You will not need this in your code.\n",
    "print('The length of Coloradothings is:')#What do you think this will print? \n",
    "print(len(Coloradothings))\n",
    "#Can you print the index of the first element?\n",
    "print(\"The first element of Coloradothings is:\",Coloradothings[0]) #note the index starts at 0. So the last element is at index 4.\n",
    "print() # Just to give a space. You will not need this in your code.\n",
    "print('The value of Coloradothings is:') # print the value of Coloradothings. Would you have guessed this output?\n",
    "print(Coloradothings)"
   ]
  },
  {
   "cell_type": "code",
   "execution_count": 4,
   "metadata": {},
   "outputs": [
    {
     "name": "stdout",
     "output_type": "stream",
     "text": [
      "For Coloradothings[3] ...\n",
      "pinto beans\n",
      "<class 'str'>\n",
      "\n",
      "For Coloradothings[4] ...\n",
      "1959\n",
      "<class 'int'>\n"
     ]
    }
   ],
   "source": [
    "# The elements inside of Coloradothings may be of differing\n",
    "# types ...\n",
    "print('For Coloradothings[3] ...')\n",
    "print(Coloradothings[3])\n",
    "print(type(Coloradothings[3]))\n",
    "print()\n",
    "print('For Coloradothings[4] ...')\n",
    "print(Coloradothings[4]) #is it the last element? Bingo!\n",
    "print(type(Coloradothings[4]))"
   ]
  },
  {
   "cell_type": "code",
   "execution_count": 11,
   "metadata": {},
   "outputs": [
    {
     "name": "stdout",
     "output_type": "stream",
     "text": [
      "['wheat', 'corn', 'sugar beets', 'pinto beans', 1959, 'Amherst']\n",
      "\n",
      "['wheat', 'corn', 'sunflowers', 'sugar beets', 'pinto beans', 1959, 'Amherst']\n"
     ]
    }
   ],
   "source": [
    "# We can append to a list and insert in a list\n",
    "\n",
    "Coloradothings.append(\"Amherst\")#append adds an element to the end of the list\n",
    "print(Coloradothings)\n",
    "print()\n",
    "Coloradothings.insert(2, \"sunflowers\")#insert adds an element at the specified index\n",
    "print(Coloradothings)"
   ]
  },
  {
   "cell_type": "markdown",
   "metadata": {},
   "source": [
    "<u>Tuples</u> are ordered, unchangeable, and allow duplicate members."
   ]
  },
  {
   "cell_type": "code",
   "execution_count": 5,
   "metadata": {},
   "outputs": [
    {
     "name": "stdout",
     "output_type": "stream",
     "text": [
      "<class 'tuple'>\n",
      "\n",
      "('Basketball', 'Corn')\n"
     ]
    }
   ],
   "source": [
    "# Make a tuple. A tuple is an immutable list. Once you create it, you cannot change it.\n",
    "\n",
    "Indianathings = (\"Basketball\", \"Corn\")\n",
    "\n",
    "print(type(Indianathings))\n",
    "print()\n",
    "print(Indianathings)\n"
   ]
  },
  {
   "cell_type": "code",
   "execution_count": 6,
   "metadata": {},
   "outputs": [
    {
     "ename": "AttributeError",
     "evalue": "'tuple' object has no attribute 'append'",
     "output_type": "error",
     "traceback": [
      "\u001b[1;31m---------------------------------------------------------------------------\u001b[0m",
      "\u001b[1;31mAttributeError\u001b[0m                            Traceback (most recent call last)",
      "Cell \u001b[1;32mIn[6], line 1\u001b[0m\n\u001b[1;32m----> 1\u001b[0m \u001b[43mIndianathings\u001b[49m\u001b[38;5;241;43m.\u001b[39;49m\u001b[43mappend\u001b[49m(\u001b[38;5;124m\"\u001b[39m\u001b[38;5;124mWall street\u001b[39m\u001b[38;5;124m\"\u001b[39m)\u001b[38;5;66;03m# this will generate an error because tuples are immutable.\u001b[39;00m\n",
      "\u001b[1;31mAttributeError\u001b[0m: 'tuple' object has no attribute 'append'"
     ]
    }
   ],
   "source": [
    "Indianathings.append(\"Wall street\")# this will generate an error because tuples are immutable.\n",
    "\n",
    "\"\"\" Note: The error here is an attribute error. It is not a syntax error.\"\"\""
   ]
  },
  {
   "cell_type": "markdown",
   "metadata": {},
   "source": [
    "Tuples can contain a single item but to do this we must specify them with a comma after the first and only element,  \n",
    " e.g., Indianathings = `(\"Basketball\")` is not a tuple (it's a string), while Indianathings = `(\"Basketball\",)` is a tuple.\n",
    "\n",
    "Tuples cannot be changed. For example, if *Indianathings* is a tuple then *Indianathings.append(\"Wall street\")* will cause an error."
   ]
  },
  {
   "cell_type": "markdown",
   "metadata": {},
   "source": [
    "<u>Sets</u> are unordered, changeable (in the sense that we can add and remove items from sets). Sets do not allow duplicates."
   ]
  },
  {
   "cell_type": "code",
   "execution_count": 7,
   "metadata": {},
   "outputs": [
    {
     "name": "stdout",
     "output_type": "stream",
     "text": [
      "<class 'set'>\n",
      "{'Ag and Bio Engineering', 'Gene Keady', 'study sessions', 'professors', 'Ross-Ade Stadium', 'students'}\n",
      "\n",
      "Ag and Bio Engineering\n",
      "Gene Keady\n",
      "study sessions\n",
      "professors\n",
      "Ross-Ade Stadium\n",
      "students\n",
      "\n",
      "True\n",
      "False\n"
     ]
    }
   ],
   "source": [
    "# Make a set.Sets are unordered collections of unique elements. As a result, they cannot be indexed.\n",
    "Purduethings = {\"Ag and Bio Engineering\", \"Ross-Ade Stadium\", \"students\", \"professors\", \"Gene Keady\", \"study sessions\"}\n",
    "print(type(Purduethings))\n",
    "print(Purduethings) # Note the order it prints\n",
    "print()\n",
    "\n",
    "for x in Purduethings: # Note the order with which the for loop executes\n",
    "    print(x)\n",
    "\n",
    "print()\n",
    "print(\"Ag and Bio Engineering\" in Purduethings)\n",
    "print(\"Medical School\" in Purduethings)"
   ]
  },
  {
   "cell_type": "markdown",
   "metadata": {},
   "source": [
    "From the code output above we note:\n",
    "1. The order in which we included the set items when defining it is not the order that python used to enumerate the items when printing. Just FYI.\n",
    "2. The statement in the last print command: `\"Ag and Bio Engineering\" in Purduethings` is a Boolean variable."
   ]
  },
  {
   "cell_type": "markdown",
   "metadata": {},
   "source": [
    "We can perform classical set operations (**union**, **intersection**, **difference**, **test subset**):"
   ]
  },
  {
   "cell_type": "code",
   "execution_count": 9,
   "metadata": {},
   "outputs": [
    {
     "name": "stdout",
     "output_type": "stream",
     "text": [
      "Purduethings union IUthings equals:\n",
      "{'Bobby Knight', 'Gene Cernan', 'Gene Keady', 'study sessions', 'parties', 'Ross-Ade Stadium', 'professors', 'students', 'Ag and Bio Engineering', 'Hoosiers'}\n",
      "\n",
      "Purduethings intersection IUthings equals:\n",
      "{'students', 'professors'}\n",
      "\n",
      "IUthings not also in Purduethings equals:\n",
      "{'parties', 'Bobby Knight', 'Hoosiers'}\n",
      "\n",
      "True\n",
      "True\n"
     ]
    }
   ],
   "source": [
    "# Make another set ...\n",
    "IUthings = {\"Hoosiers\", \"Bobby Knight\", \"students\", \"professors\", \"parties\"}\n",
    "print('Purduethings union IUthings equals:')\n",
    "print(Purduethings.union(IUthings)) #Union is the set of all elements in both sets.\n",
    "print()\n",
    "print('Purduethings intersection IUthings equals:')\n",
    "print(Purduethings.intersection(IUthings))#Intersection is the set of elements in both sets.\n",
    "print()\n",
    "print('IUthings not also in Purduethings equals:')\n",
    "print(IUthings.difference(Purduethings)) #Difference is the set of elements in the first set but not the second.\n",
    "print()\n",
    "print({\"Gene Cernan\",}.issubset(Purduethings)) #Is the set of elements in the first set a subset of the second set?\n",
    "Purduethings.add(\"Gene Cernan\")\n",
    "print({\"Gene Cernan\",}.issubset(Purduethings)) #Is the set of elements in the first set a subset of the second set?\n",
    "\n"
   ]
  },
  {
   "cell_type": "markdown",
   "metadata": {},
   "source": [
    "**Everyone knows  how to read English Dictionaries**  \n",
    "<img align=\"left\" src='Figs/English-dictionary.webp' width=\"450\"/>\n",
    "<img align=\"right\" src='Figs\\dictionary.jpg' width=\"350\"/>\n"
   ]
  },
  {
   "cell_type": "markdown",
   "metadata": {},
   "source": [
    "<u>Python Dictionaries</u> are unordered, changeable, and indexed. Written with \"{}\" but made up of key-value pairs.  \n",
    "A key-value pair is a pair of strings separated by a colon. Different key-value pairs are separated by commas. It looks like {\"key1\": \"value1\", \"key2: \"value2\"}."
   ]
  },
  {
   "cell_type": "code",
   "execution_count": 10,
   "metadata": {},
   "outputs": [
    {
     "name": "stdout",
     "output_type": "stream",
     "text": [
      "<class 'dict'>\n",
      "{'brand': 'JD', 'model': '7720', 'year': 1978, 'color': 'green'}\n"
     ]
    }
   ],
   "source": [
    "# Make some dictionaries of farm equipment.\n",
    "#declare 5 dictionaries with 3 key-value pairs each. Keys are brand, model, and year. Values are the values you choose. \n",
    "OldCombine = {\"brand\": \"CASE\", \"model\": \"7130\", \"year\": 2014} \n",
    "NewCombine = {\"brand\": \"CASE\", \"model\": \"8240\", \"year\": 2016}\n",
    "Tractor1 = {\"brand\": \"CASE\", \"model\": \"290\", \"year\": 2013}\n",
    "Pickup = {\"brand\": \"CHEVY\", \"model\": \"Silverado\", \"year\": 2005}\n",
    "FavoriteOldCombineEver = {\"brand\": \"JD\", \"model\": \"7720\", \"year\": 1978, \"color\": \"green\"}\n",
    "\n",
    "print(type(FavoriteOldCombineEver))\n",
    "print(FavoriteOldCombineEver)"
   ]
  },
  {
   "cell_type": "markdown",
   "metadata": {},
   "source": [
    "**Note**: Dictionaries can contain dictionaries."
   ]
  },
  {
   "cell_type": "code",
   "execution_count": 11,
   "metadata": {},
   "outputs": [
    {
     "name": "stdout",
     "output_type": "stream",
     "text": [
      "{'C1': {'brand': 'CASE', 'model': '7130', 'year': 2014}, 'C2': {'brand': 'CASE', 'model': '8240', 'year': 2016}, 'T1': {'brand': 'CASE', 'model': '290', 'year': 2013}, 'P1': {'brand': 'CHEVY', 'model': 'Silverado', 'year': 2005}, 'C3': {'brand': 'JD', 'model': '7720', 'year': 1978, 'color': 'green'}}\n"
     ]
    }
   ],
   "source": [
    "# Create a dictionary of farm equipment from the dictionaries of\n",
    "# individual machines.\n",
    "\n",
    "FarmEquipment = {\"C1\": OldCombine, \"C2\": NewCombine, \"T1\": Tractor1, \"P1\": Pickup, \"C3\": FavoriteOldCombineEver}\n",
    "print(FarmEquipment)"
   ]
  },
  {
   "cell_type": "markdown",
   "metadata": {},
   "source": [
    "**`Python provides a number of method for operating on strings ...`***\n",
    "\n",
    "Methods are often written with dot notation wherein a string or string variable is followed by dot the method name and some optional paramters. Let `my_string` be a variable that holds a string. Some important methods are\n",
    "\n",
    "* `my_string.find('xyz')` -- returns the index of the position in the original string where the first occurance of `'xyz'` is found, or -1 if never found\n",
    "\n",
    "* `my_string.upper()` -- makes a new string which is the upper case version of the original. There is also a `.lower()`\n",
    "\n",
    "* `my_string.replace('old','new')` -- replaces first occurance of substring `'old'` with substring `'new'`\n",
    "\n",
    "* `my_string.split()` -- with no arguments it splits an input string at white space characters, e.g., space, tab, new line and produces a list containing the substrings.\n",
    "\n",
    "There are many other string methods."
   ]
  },
  {
   "cell_type": "code",
   "execution_count": null,
   "metadata": {},
   "outputs": [],
   "source": [
    "# The split method applies to the processing of text strings. Remember\n",
    "# that a text string is a sequence of characters, sometimes called an array\n",
    "# of characters.\n",
    "\n",
    "# An example text string is one of the lines from the Limerick poem of the\n",
    "# previous lab ...\n",
    "\n",
    "ExampleString = 'There once was a fly on the wall'\n",
    "\n",
    "# Check the type of the ExampleString variable\n",
    "print(\"The data type of the ExampleString : \",type(ExampleString))\n",
    "\n",
    "# How long is it?\n",
    "print(\"The length of the ExampleString variable: \",len(ExampleString))\n",
    "\n",
    "# What is the first element?\n",
    "print(\"the first element of ExampleString\",ExampleString[0])\n",
    "\n",
    "# What is the last element?\n",
    "print(\"the last element of ExampleString\",ExampleString[31])"
   ]
  },
  {
   "cell_type": "code",
   "execution_count": null,
   "metadata": {},
   "outputs": [
    {
     "data": {
      "text/plain": [
       "' '"
      ]
     },
     "metadata": {},
     "output_type": "display_data"
    }
   ],
   "source": [
    "# Note that we don't have to define the variable in order to refer\n",
    "# to the individual elements in this way ...\n",
    "\n",
    "'There once was a fly on the wall'[5]"
   ]
  },
  {
   "cell_type": "markdown",
   "metadata": {},
   "source": [
    "The split method applies to a text string, splitting it into smaller strings demarcated by some marker, which can be specified. It puts the results into a list of smaller text strings. For example ...\n",
    "\n",
    "`'There once was a fly on the wall'`"
   ]
  },
  {
   "cell_type": "code",
   "execution_count": null,
   "metadata": {},
   "outputs": [
    {
     "data": {
      "text/plain": [
       "['There', 'once', 'was', 'a', '', '', 'fly', 'on', 'the', 'wall']"
      ]
     },
     "metadata": {},
     "output_type": "display_data"
    }
   ],
   "source": [
    "# If we split on a single space character ...\n",
    "\n",
    "'There once was a   fly on the wall'.split(' ')"
   ]
  },
  {
   "cell_type": "code",
   "execution_count": null,
   "metadata": {},
   "outputs": [
    {
     "data": {
      "text/plain": [
       "['There', 'once', 'was', 'a', 'fly', 'on', 'the', 'wall']"
      ]
     },
     "metadata": {},
     "output_type": "display_data"
    }
   ],
   "source": [
    "# If we split on any white space ... this doesn't count extra spaces ...\n",
    "# White space refers to tabs and space characters. On a printed page of white paper\n",
    "# there is therefore nothing there. White space might also include new lines ...\n",
    "\n",
    "'There once was a   fly on the \\t wall'.split()"
   ]
  },
  {
   "cell_type": "code",
   "execution_count": null,
   "metadata": {},
   "outputs": [
    {
     "data": {
      "text/plain": [
       "8"
      ]
     },
     "metadata": {},
     "output_type": "display_data"
    }
   ],
   "source": [
    "len('There once was a   fly on the wall'.split())"
   ]
  },
  {
   "cell_type": "markdown",
   "metadata": {},
   "source": [
    "#### *Discussion 3*: Operators"
   ]
  },
  {
   "cell_type": "markdown",
   "metadata": {},
   "source": [
    "<u>Arithmetic operators </u>: +, -, *, /, %, **"
   ]
  },
  {
   "cell_type": "code",
   "execution_count": 14,
   "metadata": {},
   "outputs": [
    {
     "name": "stdout",
     "output_type": "stream",
     "text": [
      "12\n",
      "2\n",
      "35\n",
      "1.4\n",
      "2\n",
      "16807\n"
     ]
    }
   ],
   "source": [
    "# Arithmetic operators: +, -, *, /, %, **\n",
    "\n",
    "print(7 + 5)  # addition\n",
    "print(7 - 5)  # subtraction\n",
    "print(7 * 5)  # multiplication\n",
    "print(7 / 5)  # division\n",
    "print(7 % 5)  # remainder upon integer division\n",
    "print(7 ** 5) # exponentiation"
   ]
  },
  {
   "cell_type": "markdown",
   "metadata": {},
   "source": [
    "<u>Assignment operators</u>: =, +=, -=, *=, /=, **="
   ]
  },
  {
   "cell_type": "code",
   "execution_count": 15,
   "metadata": {},
   "outputs": [
    {
     "name": "stdout",
     "output_type": "stream",
     "text": [
      "5\n",
      "10\n",
      "5\n",
      "25\n",
      "5.0\n",
      "3125.0\n"
     ]
    }
   ],
   "source": [
    "# Assignment operators: =, +=, -=, *=, /=, **=\n",
    "\n",
    "b = 5\n",
    "a = b\n",
    "print(a)\n",
    "a += b # shorthand for a = a + b\n",
    "print(a)\n",
    "a -= b # shorthand for a = a - b\n",
    "print(a)\n",
    "a *= b # shorthand for a = a*b\n",
    "print(a)\n",
    "a /= b # shorthand for a = a/b\n",
    "print(a)\n",
    "a **= b # shorthand for a = a**b\n",
    "print(a)"
   ]
  },
  {
   "cell_type": "markdown",
   "metadata": {},
   "source": [
    "<u>Comparison operators</u>: ==, !=, <, <=, >, >="
   ]
  },
  {
   "cell_type": "code",
   "execution_count": 15,
   "metadata": {},
   "outputs": [
    {
     "name": "stdout",
     "output_type": "stream",
     "text": [
      "a=3 is equal to b=2.  False\n",
      "True\n",
      "False\n",
      "False\n",
      "True\n",
      "True\n"
     ]
    }
   ],
   "source": [
    "# Comparison operators: ==, !=, <, <=, >, >=\n",
    "\n",
    "a = 3\n",
    "b = 2\n",
    "\n",
    "print(f\"a={a} is equal to b={b}. \",a == b)# note the double equal sign. This is a comparison operator. It returns a boolean value true or false.\n",
    "print(a != b)# not equal to\n",
    "print(a < b)# less than\n",
    "print(a <= b)# less than or equal to\n",
    "print(a > b)# greater than\n",
    "print(a >= b)# greater than or equal to\n"
   ]
  },
  {
   "cell_type": "markdown",
   "metadata": {},
   "source": [
    "<u>Logical operators</u>: and, or, not"
   ]
  },
  {
   "cell_type": "code",
   "execution_count": 16,
   "metadata": {},
   "outputs": [
    {
     "name": "stdout",
     "output_type": "stream",
     "text": [
      "<class 'bool'>\n",
      "False\n",
      "\n",
      "<class 'bool'>\n",
      "True\n",
      "\n",
      "True\n",
      "False\n"
     ]
    }
   ],
   "source": [
    "# Logical operators: and, or, not\n",
    "\n",
    "x = (a == b) # The expression a == b it a Boolean value (either True or False).\n",
    "             # The assignment creates a Boolean variable x\n",
    "print(type(x))\n",
    "print(x)\n",
    "\n",
    "print()\n",
    "\n",
    "y = not(x)# The not operator negates the Boolean value of x\n",
    "print(type(y))\n",
    "print(y)\n",
    "\n",
    "print()\n",
    "\n",
    "z = True\n",
    "\n",
    "print(x or z)# The or operator returns True if either x or z is True\n",
    "print(x and z)# The and operator returns True if both x and z are True\n"
   ]
  },
  {
   "cell_type": "markdown",
   "metadata": {},
   "source": [
    "#### *Discussion 4*: Control statements\n",
    "There are three methods of program control that we consider here:\n",
    "\n",
    "1. For loops\n",
    "2. While loops   \n",
    "3. If/else statement"
   ]
  },
  {
   "cell_type": "code",
   "execution_count": 19,
   "metadata": {},
   "outputs": [
    {
     "name": "stdout",
     "output_type": "stream",
     "text": [
      "1\n",
      "2\n",
      "3\n",
      "4\n",
      "5\n"
     ]
    }
   ],
   "source": [
    "# While loop: Execute while condition is true.\n",
    "\n",
    "i = 1\n",
    "while i < 6:\n",
    "    print(i)\n",
    "    i += 1"
   ]
  },
  {
   "cell_type": "code",
   "execution_count": 20,
   "metadata": {},
   "outputs": [
    {
     "name": "stdout",
     "output_type": "stream",
     "text": [
      "b\n",
      "a\n",
      "n\n",
      "a\n",
      "n\n",
      "a\n",
      "\n",
      "\n",
      "Try continue command\n",
      "\n",
      "\n",
      "b\n",
      "a\n",
      "a\n",
      "a\n"
     ]
    }
   ],
   "source": [
    "# For loop: Iterate over a sequence. Also, have break (stop a loop where it is \n",
    "# and exit) and continue (move to the next iteration of loop).\n",
    "\n",
    "for x in \"banana\":\n",
    "    print(x)\n",
    "    \n",
    "print(\"\\n\")    \n",
    "print(\"Try continue command\")\n",
    "print(\"\\n\")\n",
    "\n",
    "for x in \"banana\":\n",
    "    if x == \"n\":\n",
    "        continue\n",
    "    print(x)"
   ]
  },
  {
   "cell_type": "code",
   "execution_count": 18,
   "metadata": {},
   "outputs": [
    {
     "name": "stdout",
     "output_type": "stream",
     "text": [
      "a is greater than b\n"
     ]
    }
   ],
   "source": [
    "# Example if/else statement\n",
    "\n",
    "a = 5;\n",
    "b = 3;\n",
    "if b > a:\n",
    "    print(\"b is greater than a\")\n",
    "elif a == b:\n",
    "    print(\"a and b are equal\")\n",
    "else:\n",
    "    print(\"a is greater than b\")"
   ]
  },
  {
   "cell_type": "markdown",
   "metadata": {},
   "source": [
    "#### *Discussion 5*: Functions\n",
    "   \n",
    "Function are blocks of code that run when called. \n",
    "\n",
    "- Can pass parameters to a function. \n",
    "- A function can return a value (routine is similar to function but it does not return a value)\n",
    "\n",
    "Functions allow code to be more readable by allowing the hiding of details of an operation that may not be central to the understanding of the overall algorithm. Sometimes, this is called encapsulation. For example, perhaps we want to solve some sort of geometric problem, such as finding the height of a tree from the angle of the sun and the length of the shadow cast on the ground. The height calculation will involve intermediate calculations of trigonometric functions of the angle (e.g., sine, cosine, tangent). These sorts of intermediate calculations are naturally left to functions in python and other programming languages.\n",
    "\n",
    "In addition, functions ...\n",
    "\n",
    "- Assist in divide and conquer problem solving.\n",
    "- Allow to reuse the function code in other parts of a larger program.  \n",
    "\n",
    "Python has a list of built in functions you can refer to at [ Built-in Functions](https://docs.python.org/3/library/functions.html)"
   ]
  },
  {
   "cell_type": "code",
   "execution_count": 11,
   "metadata": {},
   "outputs": [
    {
     "name": "stdout",
     "output_type": "stream",
     "text": [
      "the range of values in I  range(0, 10)\n"
     ]
    }
   ],
   "source": [
    "i=10\n",
    "print(\"the range of values in I \", range(i)) #here print and range are Python's built-in functions"
   ]
  },
  {
   "cell_type": "code",
   "execution_count": 13,
   "metadata": {},
   "outputs": [
    {
     "name": "stdout",
     "output_type": "stream",
     "text": [
      "[('corn', 100), ('winter-wheat', 240), ('soybean', 120)]\n"
     ]
    }
   ],
   "source": [
    "# Create two lists\n",
    "crop = [\"corn\", \"winter-wheat\", \"soybean\"]\n",
    "cropcycle = [100, 240, 120]\n",
    "\n",
    "# Use zip() to combine the lists element-wise. zip is a built in function\n",
    "combined = zip(crop, cropcycle)\n",
    "\n",
    "# Convert the result to a list (or another iterable, e.g., tuple)\n",
    "combined_list = list(combined) # list is a function that converts its argument to a list\n",
    "\n",
    "# Display the combined result\n",
    "print(combined_list)"
   ]
  },
  {
   "cell_type": "markdown",
   "metadata": {},
   "source": [
    "**Write your own function : find the square root**\n",
    "\n",
    "According to wikipedia this algorithm goes back to the Babylonians (100 AD) and is widely used for computing square roots by hand. The idea is this. If we want to find the square root of a positive number, say $Z$, we first start with a guess $x$ hoping $x^2 \\approx Z$. Now if the original guess is too large, i.e., $x^2 > Z$ then $x > Z/x$ and so we could move in the correct direction (towards smaller values of $x$) by making a new guess equal to the average of $x$ and $Z/x$, i.e.,\n",
    "\n",
    "New guess = $(x + Z/x)/2$.\n",
    "\n",
    "If, on the other hand, the original quess was too small, i.e., $x^2 < Z$ then $x < Z/x$ and using the above formula for the new guess would move in the correct direction of larger values. The algorithm is implemented in python in the function code below."
   ]
  },
  {
   "cell_type": "markdown",
   "metadata": {},
   "source": [
    "**Hand calculation example ...**  \n",
    "\n",
    "Say Z = 10 and guess x = 3 for the square root. Then the next guess is the average of 3 and 3.3333..., which is approximately 3.16666... The next step in the algorithm gives an estimate of\n",
    "\n",
    "3.1622"
   ]
  },
  {
   "cell_type": "code",
   "execution_count": 21,
   "metadata": {},
   "outputs": [
    {
     "name": "stdout",
     "output_type": "stream",
     "text": [
      "1\n",
      "0.9450000000000001\n",
      "0.9433994708994708\n",
      "0.9433981132066374\n",
      "0.9433981132056604\n",
      "0.9433981132056604\n",
      "0.9433981132056604\n",
      "0.9433981132056604\n"
     ]
    }
   ],
   "source": [
    "Z = .89\n",
    "x = [1, 1, 1, 1, 1, 1, 1, 1] #this is a list,being used as a counter.\n",
    "N = len(x) #len returns the length of its argument list\n",
    "print(x[0])\n",
    "i = 1\n",
    "while i < N: #while is a loop that executes the code in its body while the condition is true, i.e., while i < N(=8)\n",
    "    x[i] = (x[i-1] + Z/x[i-1])/2 #this is the Newton-Raphson method for finding the square root of Z\n",
    "    print(x[i])#print the value of x[i] on each iteration to see how it converges.\n",
    "    i = i+1 #increment i by 1"
   ]
  },
  {
   "cell_type": "markdown",
   "metadata": {},
   "source": [
    "**Now write a function for the square root calculation**  \n",
    "\n",
    "Could you comment this code?\n"
   ]
  },
  {
   "cell_type": "code",
   "execution_count": 15,
   "metadata": {},
   "outputs": [],
   "source": [
    "# Z is the positive number for which we want the square root. \n",
    "# epsilon is the tolerance in the accuracy of the result.\n",
    "# The function returns the square root of Z.\n",
    "\n",
    "def Newtroot(Z,epsilon):\n",
    "    x = 1\n",
    "    xp = (x + Z/x)/2\n",
    "    e = (xp - x)/x\n",
    "    while (e > epsilon) or (-epsilon > e):\n",
    "        x = xp\n",
    "        xp = (x + Z/x)/2\n",
    "        e = (xp - x)/x\n",
    "    return xp"
   ]
  },
  {
   "cell_type": "markdown",
   "metadata": {},
   "source": [
    "**How to use functions?**  \n",
    "functions are generally written within loops where the loops iterate over values which changes the function arguments. "
   ]
  },
  {
   "cell_type": "code",
   "execution_count": 22,
   "metadata": {},
   "outputs": [
    {
     "name": "stdout",
     "output_type": "stream",
     "text": [
      "the square root of the multiples of 10 are:  [1.0, 3.3166247903554, 4.58257569495584, 5.567764362830022, 6.4031242374328485, 7.14142842854285, 7.810249675906654, 8.426149773176359, 9.0, 9.539392014169456]\n"
     ]
    }
   ],
   "source": [
    "# Example of the square root algorithm for multiples of 10\n",
    "listofsquareroots = [] # create an empty list to store the square roots\n",
    "epsilon = 1e-12 # tolerance for the square root algorithm\n",
    "for numbers in range(1,100,10): #the range(start, end, step) is used to every 10th number between 1-100. \n",
    "    z=Newtroot(numbers,epsilon) #call the function Newtroot\n",
    "    listofsquareroots.append(z)# append the return value to a list. This will store the values each time the loop runs\n",
    "print(\"the square root of the multiples of 10 are: \",listofsquareroots)\n"
   ]
  },
  {
   "attachments": {
    "CodevisualizerExample.PNG": {
     "image/png": "[encoded data removed]"
    }
   },
   "cell_type": "markdown",
   "metadata": {},
   "source": [
    "**Would you like to visualize each step of this function?**  \n",
    "you must try copying to the box and follow the example on [Pythontutor](https://pythontutor.com/). Paste the above code to visualize the newtroot function, here [visualizer/visual debugger](https://pythontutor.com/render.html#mode=display).  \n",
    "\n",
    "\n",
    "![CodevisualizerExample.PNG](attachment:CodevisualizerExample.PNG)"
   ]
  }
 ],
 "metadata": {
  "kernelspec": {
   "display_name": "Python 3",
   "language": "python",
   "name": "python3"
  },
  "language_info": {
   "codemirror_mode": {
    "name": "ipython",
    "version": 3
   },
   "file_extension": ".py",
   "mimetype": "text/x-python",
   "name": "python",
   "nbconvert_exporter": "python",
   "pygments_lexer": "ipython3",
   "version": "3.11.6"
  }
 },
 "nbformat": 4,
 "nbformat_minor": 2
}
